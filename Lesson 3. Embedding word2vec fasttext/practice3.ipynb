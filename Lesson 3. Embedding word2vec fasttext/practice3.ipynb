{
  "nbformat": 4,
  "nbformat_minor": 0,
  "metadata": {
    "colab": {
      "name": "practice3.ipynb",
      "provenance": [],
      "collapsed_sections": []
    },
    "kernelspec": {
      "name": "python3",
      "display_name": "Python 3"
    },
    "language_info": {
      "name": "python"
    }
  },
  "cells": [
    {
      "cell_type": "code",
      "metadata": {
        "id": "Gr2T3Xkyn9ns"
      },
      "source": [
        "# !wget -O ukr_rus.train.txt -qq --no-check-certificate \"https://drive.google.com/uc?export=download&id=1vAK0SWXUqei4zTimMvIhH3ufGPsbnC_O\"\n",
        "# !wget -O ukr_rus.test.txt -qq --no-check-certificate \"https://drive.google.com/uc?export=download&id=1W9R2F8OeKHXruo2sicZ6FgBJUTJc8Us_\"\n",
        "# !wget -O fairy_tale.txt -qq --no-check-certificate \"https://drive.google.com/uc?export=download&id=1sq8zSroFeg_afw-60OmY8RATdu_T1tej\"\n",
        "\n",
        "# # Install the PyDrive wrapper & import libraries.\n",
        "# # This only needs to be done once per notebook.\n",
        "# !pip install -U -q PyDrive\n",
        "# from pydrive.auth import GoogleAuth\n",
        "# from pydrive.drive import GoogleDrive\n",
        "# from google.colab import auth\n",
        "# from oauth2client.client import GoogleCredentials\n",
        "\n",
        "# # Authenticate and create the PyDrive client.\n",
        "# # This only needs to be done once per notebook.\n",
        "# auth.authenticate_user()\n",
        "# gauth = GoogleAuth()\n",
        "# gauth.credentials = GoogleCredentials.get_application_default()\n",
        "# drive = GoogleDrive(gauth)\n",
        "\n",
        "# downloaded = drive.CreateFile({'id': '1d7OXuil646jUeDS1JNhP9XWlZogv6rbu'})\n",
        "# downloaded.GetContentFile('cc.ru.300.vec.zip')\n",
        "\n",
        "# downloaded = drive.CreateFile({'id': '1yAqwqgUHtMSfGS99WLGe5unSCyIXfIxi'})\n",
        "# downloaded.GetContentFile('cc.uk.300.vec.zip')\n",
        "\n",
        "# !unzip cc.ru.300.vec.zip\n",
        "# !unzip cc.uk.300.vec.zip"
      ],
      "execution_count": 1,
      "outputs": []
    },
    {
      "cell_type": "code",
      "metadata": {
        "id": "GyZLQo98t2Kk"
      },
      "source": [
        "import numpy as np\n",
        "\n",
        "from sklearn.linear_model import LinearRegression\n",
        "\n",
        "from gensim.models import KeyedVectors"
      ],
      "execution_count": 2,
      "outputs": []
    },
    {
      "cell_type": "code",
      "metadata": {
        "id": "6ntibvzErpOV"
      },
      "source": [
        "ru_emb = KeyedVectors.load_word2vec_format(\"cc.ru.300.vec\")\n",
        "uk_emb = KeyedVectors.load_word2vec_format(\"cc.uk.300.vec\")"
      ],
      "execution_count": 3,
      "outputs": []
    },
    {
      "cell_type": "code",
      "metadata": {
        "id": "Qd2zVS1fvgtg"
      },
      "source": [
        "def load_word_pairs(filename):\n",
        "    uk_ru_pairs = []\n",
        "    uk_vectors = []\n",
        "    ru_vectors = []\n",
        "    with open(filename, \"r\", encoding='utf8') as inpf:\n",
        "        for line in inpf:\n",
        "            uk, ru = line.rstrip().split(\"\\t\")\n",
        "            if uk not in uk_emb or ru not in ru_emb:\n",
        "                continue\n",
        "            uk_ru_pairs.append((uk, ru))\n",
        "            uk_vectors.append(uk_emb[uk])\n",
        "            ru_vectors.append(ru_emb[ru])\n",
        "    return uk_ru_pairs, np.array(uk_vectors), np.array(ru_vectors)"
      ],
      "execution_count": 4,
      "outputs": []
    },
    {
      "cell_type": "code",
      "metadata": {
        "id": "JgeH3ZG8v776"
      },
      "source": [
        "uk_ru_train, X_train, Y_train = load_word_pairs(\"ukr_rus.train.txt\")\n",
        "uk_ru_test, X_test, Y_test = load_word_pairs(\"ukr_rus.test.txt\")"
      ],
      "execution_count": 5,
      "outputs": []
    },
    {
      "cell_type": "markdown",
      "metadata": {
        "id": "yspNx401tP4J"
      },
      "source": [
        "### Учим маппинг из одного пространства эмбеддингов в другое"
      ]
    },
    {
      "cell_type": "code",
      "metadata": {
        "id": "7b5NK3S5uf80",
        "colab": {
          "base_uri": "https://localhost:8080/"
        },
        "outputId": "7cf4f139-55d6-4f46-e8a8-0c7ee9466f9d"
      },
      "source": [
        "mapping = LinearRegression(fit_intercept=False)\n",
        "mapping.fit(X_train, Y_train)"
      ],
      "execution_count": 6,
      "outputs": [
        {
          "output_type": "execute_result",
          "data": {
            "text/plain": [
              "LinearRegression(copy_X=True, fit_intercept=False, n_jobs=None, normalize=False)"
            ]
          },
          "metadata": {
            "tags": []
          },
          "execution_count": 6
        }
      ]
    },
    {
      "cell_type": "code",
      "metadata": {
        "id": "f3n8RS8numwy",
        "colab": {
          "base_uri": "https://localhost:8080/"
        },
        "outputId": "169d95df-91ae-4aec-f06b-369d0e9c39fa"
      },
      "source": [
        "august = mapping.predict(uk_emb[\"серпень\"].reshape(1, -1))\n",
        "ru_emb.most_similar(august)"
      ],
      "execution_count": 7,
      "outputs": [
        {
          "output_type": "execute_result",
          "data": {
            "text/plain": [
              "[('апрель', 0.8541285991668701),\n",
              " ('июнь', 0.8411202430725098),\n",
              " ('март', 0.839699387550354),\n",
              " ('сентябрь', 0.835986852645874),\n",
              " ('февраль', 0.8329297304153442),\n",
              " ('октябрь', 0.8311845660209656),\n",
              " ('ноябрь', 0.8278923034667969),\n",
              " ('июль', 0.8234529495239258),\n",
              " ('август', 0.8120501041412354),\n",
              " ('декабрь', 0.803900420665741)]"
            ]
          },
          "metadata": {
            "tags": []
          },
          "execution_count": 7
        }
      ]
    },
    {
      "cell_type": "code",
      "metadata": {
        "id": "Zln-y_uQurQa"
      },
      "source": [
        "def precision(pairs, mapped_vectors, topn=1):\n",
        "    \"\"\"\n",
        "    :args:\n",
        "        pairs = list of right word pairs [(uk_word_0, ru_word_0), ...]\n",
        "        mapped_vectors = list of embeddings after mapping from source embedding space to destination embedding space\n",
        "        topn = the number of nearest neighbours in destination embedding space to choose from\n",
        "    :returns:\n",
        "        precision_val, float number, total number of words for those we can find right translation at top K.\n",
        "    \"\"\"\n",
        "    num_matches = 0\n",
        "    for i, (_, ru) in enumerate(pairs):\n",
        "      pred_list = ru_emb.most_similar(mapped_vectors[i:i+1])[:topn]\n",
        "      pred_list = [j for j, _ in pred_list]\n",
        "      num_matches += 1 if ru in pred_list else 0\n",
        "    precision_val = num_matches / len(pairs)\n",
        "    return precision_val"
      ],
      "execution_count": 8,
      "outputs": []
    },
    {
      "cell_type": "code",
      "metadata": {
        "id": "jLS1P76o5WB8",
        "colab": {
          "base_uri": "https://localhost:8080/"
        },
        "outputId": "da172d95-54fd-4aa6-f03b-e7e744ac16b8"
      },
      "source": [
        "print(precision([(\"серпень\", \"август\")], august, topn=5))\n",
        "print(precision([(\"серпень\", \"август\")], august, topn=9))\n",
        "print(precision([(\"серпень\", \"август\")], august, topn=10))"
      ],
      "execution_count": 9,
      "outputs": [
        {
          "output_type": "stream",
          "text": [
            "0.0\n",
            "1.0\n",
            "1.0\n"
          ],
          "name": "stdout"
        }
      ]
    },
    {
      "cell_type": "code",
      "metadata": {
        "id": "p4y6eQ-yVfL-",
        "colab": {
          "base_uri": "https://localhost:8080/"
        },
        "outputId": "3f01c531-8787-40d4-e728-706c38b6fad2"
      },
      "source": [
        "print(precision(uk_ru_test, mapping.predict(X_test)))\n",
        "print(precision(uk_ru_test, mapping.predict(X_test), 5))"
      ],
      "execution_count": 10,
      "outputs": [
        {
          "output_type": "stream",
          "text": [
            "0.6356589147286822\n",
            "0.813953488372093\n"
          ],
          "name": "stdout"
        }
      ]
    },
    {
      "cell_type": "markdown",
      "metadata": {
        "id": "SNiykVEctoXX"
      },
      "source": [
        "### Улучшаем маппинг\n",
        "$$X^TY=U\\Sigma V^T\\text{, singular value decompostion}$$\n",
        "$$W^*=UV^T$$"
      ]
    },
    {
      "cell_type": "code",
      "metadata": {
        "id": "GbdTkaJ2to_t"
      },
      "source": [
        "def learn_transform(X_train, Y_train):\n",
        "    \"\"\" \n",
        "    :returns: W* : float matrix[emb_dim x emb_dim] as defined in formulae above\n",
        "    \"\"\"\n",
        "    XY_dot = np.dot(X_train.T, Y_train)\n",
        "    u, _, vh = np.linalg.svd(XY_dot)\n",
        "    W = np.dot(u, vh)\n",
        "    return W"
      ],
      "execution_count": 11,
      "outputs": []
    },
    {
      "cell_type": "code",
      "metadata": {
        "id": "oimrqor28Sd0",
        "colab": {
          "base_uri": "https://localhost:8080/"
        },
        "outputId": "4b8b7cca-01c7-4e4a-b0cd-93c3c918453c"
      },
      "source": [
        "W = learn_transform(X_train, Y_train)\n",
        "W.shape"
      ],
      "execution_count": 12,
      "outputs": [
        {
          "output_type": "execute_result",
          "data": {
            "text/plain": [
              "(300, 300)"
            ]
          },
          "metadata": {
            "tags": []
          },
          "execution_count": 12
        }
      ]
    },
    {
      "cell_type": "code",
      "metadata": {
        "id": "JRx2IJO18dTU",
        "colab": {
          "base_uri": "https://localhost:8080/"
        },
        "outputId": "9eab4b6a-7dff-4ba9-9ce1-d6b1859158f5"
      },
      "source": [
        "ru_emb.most_similar([np.matmul(uk_emb['серпень'], W)])"
      ],
      "execution_count": 13,
      "outputs": [
        {
          "output_type": "execute_result",
          "data": {
            "text/plain": [
              "[('апрель', 0.8237907886505127),\n",
              " ('сентябрь', 0.8049713373184204),\n",
              " ('март', 0.8025654554367065),\n",
              " ('июнь', 0.8021842241287231),\n",
              " ('октябрь', 0.8001736402511597),\n",
              " ('ноябрь', 0.7934483885765076),\n",
              " ('февраль', 0.7914121150970459),\n",
              " ('июль', 0.7908109426498413),\n",
              " ('август', 0.7891016602516174),\n",
              " ('декабрь', 0.7686373591423035)]"
            ]
          },
          "metadata": {
            "tags": []
          },
          "execution_count": 13
        }
      ]
    },
    {
      "cell_type": "code",
      "metadata": {
        "id": "Qu27UejV8opo",
        "colab": {
          "base_uri": "https://localhost:8080/"
        },
        "outputId": "7550a4ca-0876-4d1f-c67c-383a71efd594"
      },
      "source": [
        "print(precision(uk_ru_test, np.matmul(X_test, W)))\n",
        "print(precision(uk_ru_test, np.matmul(X_test, W), 5))"
      ],
      "execution_count": 14,
      "outputs": [
        {
          "output_type": "stream",
          "text": [
            "0.6537467700258398\n",
            "0.8242894056847545\n"
          ],
          "name": "stdout"
        }
      ]
    },
    {
      "cell_type": "code",
      "metadata": {
        "id": "dIkv5eXR9ei6",
        "colab": {
          "base_uri": "https://localhost:8080/"
        },
        "outputId": "729827ad-cf00-40cc-a4c8-83e9ab1da38d"
      },
      "source": [
        "with open(\"fairy_tale.txt\", \"r\") as f:\n",
        "    uk_sentences = [line.rstrip().lower() for line in f]\n",
        "\n",
        "uk_sentences[:5]"
      ],
      "execution_count": 15,
      "outputs": [
        {
          "output_type": "execute_result",
          "data": {
            "text/plain": [
              "['лисичка - сестричка і вовк - панібрат',\n",
              " 'як була собі лисичка , да й пішла раз до однії баби добувать огню ; ввійшла у хату да й каже : \" добрий день тобі , бабусю !',\n",
              " 'дай мені огня \" .',\n",
              " 'а баба тільки що вийняла із печі пирожок із маком , солодкий , да й положила , щоб він прохолов ; а лисичка се і підгледала , да тілько що баба нахилилась у піч , щоб достать огня , то лисичка зараз ухватила пирожок да і драла з хати , да , біжучи , весь мак із його виїла , а туда сміття наклала .',\n",
              " 'прибігла на поле , аж там пасуть хлопці бичків .']"
            ]
          },
          "metadata": {
            "tags": []
          },
          "execution_count": 15
        }
      ]
    },
    {
      "cell_type": "code",
      "metadata": {
        "id": "fVrovdUC-P1L"
      },
      "source": [
        "def translate(sentence):\n",
        "    \"\"\"\n",
        "    :args:\n",
        "        sentence - sentence in Ukrainian (str)\n",
        "    :returns:\n",
        "        translation - sentence in Russian (str)\n",
        "\n",
        "    * find ukrainian embedding for each word in sentence\n",
        "    * transform ukrainian embedding vector\n",
        "    * find nearest russian word and replace\n",
        "    \"\"\"\n",
        "    preds = []\n",
        "    for word in sentence.split():\n",
        "      try:\n",
        "        word = mapping.predict(uk_emb[word].reshape(1, -1))\n",
        "        word = ru_emb.most_similar(word)[0][0]\n",
        "        preds.append(word)\n",
        "      except KeyError:\n",
        "        preds.append(word)\n",
        "\n",
        "    return ' '.join(preds)"
      ],
      "execution_count": 16,
      "outputs": []
    },
    {
      "cell_type": "code",
      "metadata": {
        "colab": {
          "base_uri": "https://localhost:8080/"
        },
        "id": "wSc8kDvONL82",
        "outputId": "9cb77ea4-bb57-418b-8602-250305cf0790"
      },
      "source": [
        "print(translate(\".\"))\n",
        "print(translate(\"1 , 3\"))\n",
        "print(translate(\"кіт зловив мишу\"))"
      ],
      "execution_count": 17,
      "outputs": [
        {
          "output_type": "stream",
          "text": [
            "Во\n",
            "от , до\n",
            "кот поймал мышь\n"
          ],
          "name": "stdout"
        }
      ]
    },
    {
      "cell_type": "code",
      "metadata": {
        "colab": {
          "base_uri": "https://localhost:8080/"
        },
        "id": "3fBSyAu1MyY0",
        "outputId": "5382b61f-db82-41d2-9043-cd9c6b1c385e"
      },
      "source": [
        "for sentence in uk_sentences:\n",
        "    print(f\"src: {sentence}\\ndst: {translate(sentence)}\\n\")"
      ],
      "execution_count": 18,
      "outputs": [
        {
          "output_type": "stream",
          "text": [
            "src: лисичка - сестричка і вовк - панібрат\n",
            "dst: лисичка – девочка и волк – панібрат\n",
            "\n",
            "src: як була собі лисичка , да й пішла раз до однії баби добувать огню ; ввійшла у хату да й каже : \" добрий день тобі , бабусю !\n",
            "dst: как была себе лисичка , ой и пошла раз от однії бабы добувать огнь ; лечь во избу ой и говорит из \" хороший день тебе , бабуля !\n",
            "\n",
            "src: дай мені огня \" .\n",
            "dst: дай мне из \" Во\n",
            "\n",
            "src: а баба тільки що вийняла із печі пирожок із маком , солодкий , да й положила , щоб він прохолов ; а лисичка се і підгледала , да тілько що баба нахилилась у піч , щоб достать огня , то лисичка зараз ухватила пирожок да і драла з хати , да , біжучи , весь мак із його виїла , а туда сміття наклала .\n",
            "dst: а баба только что вынуть со печи пирожок со маком , сладкий , ой и легла , чтобы он прохолов ; а лисичка коль и підгледала , ой притом что баба наклониться во печь , чтобы достать из , то лисичка сейчас ухватила пирожок ой и сожрать со избы , ой , бежать , весь мак со его виїла , а туда мусор наложила Во\n",
            "\n",
            "src: прибігла на поле , аж там пасуть хлопці бичків .\n",
            "dst: прибежала по поле , до там пасут парни бычков Во\n",
            "\n",
            "src: вона і каже їм : \" ей , хлопці !\n",
            "dst: она и говорит им из \" усыновленным , парни !\n",
            "\n",
            "src: проміняйте мені бичка - третячка за маковий пирожок \" .\n",
            "dst: проміняйте мне бычок – третячка за маковый пирожок \" Во\n",
            "\n",
            "src: тії согласились ; так вона їм говорить : \" смотріть же , ви не їжте зараз сього пирожка , а тоді уже розломите , як я заведу бичка за могилку ; а то ви його ні за що не розломите \" .\n",
            "dst: ужи подписать ; да она им говорит из \" смотріть же , мы не ешьте сейчас ибо пирожка , а тогда уже розломите , как мной заведу бычок за могила ; а то мы его ни за что не розломите \" Во\n",
            "\n",
            "src: бачите вже - лисичка таки собі була розумна , що хоть кого да обманить .\n",
            "dst: видишь уже – лисичка все-таки себе была умная , что -бы кого ой обманить Во\n",
            "\n",
            "src: тії хлопці так і зробили , а лисичка як зайшла за могилу , да зараз у ліс і повернула , щоб на дорозі не догнали ; прийшла у ліс да і зробила собі санки да й їде .\n",
            "dst: ужи парни да и сделали , а лисичка как зашла за могилу , ой сейчас во лес и вернула , чтобы по дороге не погнали ; пришла во лес ой и сделала себе санки ой и едет Во\n",
            "\n",
            "src: коли йде вовчик : \" здорова була , лисичко - сестричко ! \"\n",
            "dst: когда идет вовчик из \" здоровая была , лисичко – сестрица ! \"\n",
            "\n",
            "src: - \" здоров , вовчику - братику ! \"\n",
            "dst: – \" здоровье , вовчику – сынок ! \"\n",
            "\n",
            "src: - \" де се ти узяла собі і бичка і санки ? \"\n",
            "dst: – \" куда коль какой взяла себе и бычок и санки ? \"\n",
            "\n",
            "src: - \" е !\n",
            "dst: – \" й !\n",
            "\n",
            "src: зробила \" .\n",
            "dst: сделала \" Во\n",
            "\n",
            "src: - \" підвези ж і мене \" .\n",
            "dst: – \" підвези же и меня \" Во\n",
            "\n",
            "src: - \" е , вовчику !\n",
            "dst: – \" й , вовчику !\n",
            "\n",
            "src: не можна \" .\n",
            "dst: не можно \" Во\n",
            "\n",
            "src: - \" мені хоть одну ніжку \" .\n",
            "dst: – \" мне -бы одну ножку \" Во\n",
            "\n",
            "src: - \" одну можна \" .\n",
            "dst: – \" одну можно \" Во\n",
            "\n",
            "src: він і положив , да од'їхавши немного і просить , щоби іще одну положить .\n",
            "dst: он и положил , ой од'їхавши немножко и просит , чтобы еще одну толкать Во\n",
            "\n",
            "src: \" не можна , братику !\n",
            "dst: \" не можно , сынок !\n",
            "\n",
            "src: боюсь , щоб ти саней не зламав \" .\n",
            "dst: боюсь , чтобы какой саней не сломал \" Во\n",
            "\n",
            "src: - \" ні , сестричко , не бійся ! \"\n",
            "dst: – \" ни , сестрица , не бойся ! \"\n",
            "\n",
            "src: - да і положив другую ніжку .\n",
            "dst: – ой и положил одну ножку Во\n",
            "\n",
            "src: тілько що од'їхали , як щось і тріснуло .\n",
            "dst: притом что од'їхали , как что-то и треснуло Во\n",
            "\n",
            "src: \" бачиш , вовчику , уже і ламаєш санки \" .\n",
            "dst: \" видишь , вовчику , уже и ламаєш санки \" Во\n",
            "\n",
            "src: - \" ні , лисичко !\n",
            "dst: – \" ни , лисичко !\n",
            "\n",
            "src: се у мене був орішок , так я розкусив \" .\n",
            "dst: коль во меня был орішок , да мной розкусив \" Во\n",
            "\n",
            "src: да просить оп'ять , щоб і третю ногу положить ; лисичка і ту пустила , да тілько що оп'ять од'їхали , аж щось уже дужче тріснуло .\n",
            "dst: ой просит оп'ять , чтобы и третью ногу толкать ; лисичка и ту пустила , ой притом что оп'ять од'їхали , до что-то уже сильнее треснуло Во\n",
            "\n",
            "src: лисичка закричала : \" ох , лишечко !\n",
            "dst: лисичка закричала из \" ой , лишечко !\n",
            "\n",
            "src: ти ж мені , братику , зовсім зламаєш санки \" .\n",
            "dst: какой же мне , сынок , совсем зламаєш санки \" Во\n",
            "\n",
            "src: - \" ні , лисичко , се я орішок розкусив \" .\n",
            "dst: – \" ни , лисичко , коль мной орішок розкусив \" Во\n",
            "\n",
            "src: - \" дай же і мені , бачиш який , що сам їж , а мені і не даєш \" .\n",
            "dst: – \" дай же и мне , видишь он , что сам ёж , а мне и не Дашь \" Во\n",
            "\n",
            "src: - \" нема уже більше , а я б дав \" .\n",
            "dst: – \" нету уже больше , а мной бы дал \" Во\n",
            "\n",
            "src: да і просить оп'ять , щоб пустила положить і послідню ногу .\n",
            "dst: ой и просит оп'ять , чтобы пустила толкать и послідню ногу Во\n",
            "\n",
            "src: лисичка і согласилась .\n",
            "dst: лисичка и согласилась Во\n",
            "\n",
            "src: так він тілько що положив ногу , як санки зовсім розламались .\n",
            "dst: да он притом что положил ногу , как санки совсем розламались Во\n",
            "\n",
            "src: тоді вже лисичка так на його розсердилась , що і сама не знала щоб робила !\n",
            "dst: тогда уже лисичка да по его розсердилась , что и одна не знала чтобы делала !\n",
            "\n",
            "src: а як отошло серце , вона і каже : \" іди ж , ледащо !\n",
            "dst: а как отошло сердце , она и говорит из \" яд же , лодырь !\n",
            "\n",
            "src: да нарубай дерева , щоб нам оп'ять ізробить санки ; тільки рубавши кажи так : \" рубайся ж , дерево , і криве і пряме \" .\n",
            "dst: ой нарубай деревья , чтобы нам оп'ять ізробить санки ; только рубавши говори да из \" рубайся же , дерево , и кривое и прямое \" Во\n",
            "\n",
            "src: він і пішов да й каже усе : \" рубайся ж , дерево , усе пряме да пряме ! \"\n",
            "dst: он и ушел ой и говорит всё из \" рубайся же , дерево , всё прямое ой прямое ! \"\n",
            "\n",
            "src: нарубавши і приносить ; лисичка увидала , що дерево не таке , як їй нужно , оп'ять розсердилась .\n",
            "dst: нарубавши и приносит ; лисичка увидала , что дерево не такое , как ей всемерно , оп'ять розсердилась Во\n",
            "\n",
            "src: \" ти , - говорить , - не казав , видно , так , як я тобі веліла ! \"\n",
            "dst: \" какой , – говорит , – не говорил , видно , да , как мной тебе велела ! \"\n",
            "\n",
            "src: - \" ні , я усе теє казав , що ти мені казала \" .\n",
            "dst: – \" ни , мной всё ёж говорил , что какой мне говорила \" Во\n",
            "\n",
            "src: - \" да чомусь не таке рубалось ?\n",
            "dst: – \" ой почему-то не такое рубалось ?\n",
            "\n",
            "src: ну , сиди ж ти тут , а я сама піду нарубаю \" , - да і пішла у ліс .\n",
            "dst: ну , сидеть же какой здесь , а мной одна пойду нарубаю \" , – ой и пошла во лес Во\n",
            "\n",
            "src: а вовк дивиться , що він сам остався ; узяв да проїв у бичка дірку да виїв усе в середині , а напускав туда горобців да ще соломою заткнув , поставив бичка , а сам і втік .\n",
            "dst: а волк смотрит , что он сам остался ; взял ой проїв во бычок дыра ой виїв всё во середине , а напускав туда воробьёв ой ещe соломой сунуть , поставил бычок , а сам и сбежал Во\n",
            "\n",
            "src: аж лисичка приходить , зробила санки да й сіла і стала поганять : \" гей , бичок - третячок ! \"\n",
            "dst: до лисичка приходит , сделала санки ой и сесть и стала поганять из \" гей , бычок – третячок ! \"\n",
            "\n",
            "src: тілько він не везе .\n",
            "dst: притом он не везти Во\n",
            "\n",
            "src: от вона встала , щоб поправить : може , що не так запряжено ; да , не хотячи , одоткнула солому , а оттуда так і сипнули горобці летіти .\n",
            "dst: из она встать , чтобы поправить из может , что не да запряжено ; ой , не вздумал , одоткнула солому , а ту да и сипнули воробьи лететь Во\n",
            "\n",
            "src: вона уже тоді побачила , що бичок неживий ; покинула його да й пішла .\n",
            "dst: она уже тогда увидела , что бычок неодушевленный ; покинула его ой и пошла Во\n",
            "\n",
            "src: легла на дорозі , аж дивиться - їде мужик з рибою ; вона і притворилась , що здохла .\n",
            "dst: легла по дороге , до смотрит – едет мужик со рыбой ; она и притворилась , что скотина Во\n",
            "\n",
            "src: от мужик і говорить : \" возьму я оцю лисицю , обдеру да хоть шапку собі зошью \" .\n",
            "dst: из мужик и говорит из \" возьму мной ту лиса , обдеру ой -бы шапка себе зошью \" Во\n",
            "\n",
            "src: узяв да і положив ззаді у воза .\n",
            "dst: взял ой и положил сзади во телега Во\n",
            "\n",
            "src: вона замітила , що мужик не смотрить , стала ногами викидувать рибу з воза , а когда побачила , що навикидала уже багато , тоди потихесеньку і сама злізла ; сіла біля риби да і їсть собі , - коли біжить оп'ять той самий вовчик .\n",
            "dst: она обнаружила , что мужик не смотрить , стала ногами викидувать рыба со телега , а подпирать увидела , что навикидала уже много , способы потихесеньку и одна слезть ; сесть возле рыбы ой и ест себе , – когда бежит оп'ять тот самый вовчик Во\n",
            "\n",
            "src: побачивши , що вона їсть рибу , прибіг до їй да й каже : \" здорово була , лисичко - сестричко !\n",
            "dst: увидев , что она ест рыба , прибежал от ей ой и говорит из \" здорово была , лисичко – сестрица !\n",
            "\n",
            "src: де се ти набрала стільки риби ? \"\n",
            "dst: куда коль какой набрала столько рыбы ? \"\n",
            "\n",
            "src: вона каже : \" наловила , вовчику - братику ! \"\n",
            "dst: она говорит из \" наловила , вовчику – сынок ! \"\n",
            "\n",
            "src: а собі на думці : \" подожди , і я зроблю з тобою таку штуку , як і ти зо мною \" .\n",
            "dst: а себе по мнении из \" подожди , и мной сделаю со тобой такую штуку , как и какой десять мной \" Во\n",
            "\n",
            "src: - \" як же ти ловила ? \"\n",
            "dst: – \" как же какой ловила ? \"\n",
            "\n",
            "src: - \" так , вовчику , уложила хвостик в ополонку , вожу тихенько да й кажу ; ловися , рибка , мала і велика !\n",
            "dst: – \" да , вовчику , уложила хвостик во прорубь , вожу тихонько ой и говорю ; ловися , рыбка , имела и большая !\n",
            "\n",
            "src: коли хочеш , то і ти піди , налови собі \" .\n",
            "dst: когда хочешь , то и какой пойди , налови себе \" Во\n",
            "\n",
            "src: він побіг да зробив так , як казала лисичка .\n",
            "dst: он побежал ой сделал да , как говорила лисичка Во\n",
            "\n",
            "src: а лисичка стала за деревом да й дивиться ; коли у вовчика зовсім хвостик примерз , вона тоді побігла в село да й кричить : \" ідіть , люди , вбивайте вовка ! \"\n",
            "dst: а лисичка стала за деревом ой и смотрит ; когда во вовчика совсем хвостик примерз , она тогда побежала во селение ой и кричит из \" идите , люди , убивать волк ! \"\n",
            "\n",
            "src: люди набігли з кольями да і убили його .\n",
            "dst: люди набежали со кольями ой и убили его Во\n",
            "\n",
            "src: \n",
            "dst: \n",
            "\n"
          ],
          "name": "stdout"
        }
      ]
    }
  ]
}