{
  "nbformat": 4,
  "nbformat_minor": 0,
  "metadata": {
    "kernelspec": {
      "display_name": "Python 3",
      "language": "python",
      "name": "python3"
    },
    "language_info": {
      "codemirror_mode": {
        "name": "ipython",
        "version": 3
      },
      "file_extension": ".py",
      "mimetype": "text/x-python",
      "name": "python",
      "nbconvert_exporter": "python",
      "pygments_lexer": "ipython3",
      "version": "3.7.4"
    },
    "colab": {
      "name": "practice 5.ipynb",
      "provenance": [],
      "collapsed_sections": []
    }
  },
  "cells": [
    {
      "cell_type": "markdown",
      "metadata": {
        "id": "VqmTLrT42RJS"
      },
      "source": [
        "# Задание 1\n",
        "## Написать теггер на данных с русcким языком"
      ]
    },
    {
      "cell_type": "code",
      "metadata": {
        "id": "-QENpLjL2RJg"
      },
      "source": [
        "# !pip install pyconll\n",
        "# !mkdir datasets\n",
        "# !wget -O ./datasets/ru_syntagrus-ud-train.conllu https://raw.githubusercontent.com/UniversalDependencies/UD_Russian-SynTagRus/master/ru_syntagrus-ud-train.conllu\n",
        "# !wget -O ./datasets/ru_syntagrus-ud-dev.conllu https://raw.githubusercontent.com/UniversalDependencies/UD_Russian-SynTagRus/master/ru_syntagrus-ud-dev.conllu"
      ],
      "execution_count": 1,
      "outputs": []
    },
    {
      "cell_type": "code",
      "metadata": {
        "colab": {
          "base_uri": "https://localhost:8080/"
        },
        "id": "UX9dn7y22RJh",
        "outputId": "7f40200e-43b0-4d42-c0e2-24687a1f3387"
      },
      "source": [
        "import numpy as np\n",
        "import pandas as pd\n",
        "import matplotlib.pyplot as plt\n",
        "\n",
        "from sklearn.feature_extraction.text import CountVectorizer, HashingVectorizer\n",
        "from sklearn.preprocessing import LabelEncoder\n",
        "from sklearn.linear_model import LogisticRegression\n",
        "from sklearn.metrics import accuracy_score\n",
        "\n",
        "import pyconll\n",
        "\n",
        "from gensim.models import Word2Vec, FastText\n",
        "\n",
        "from nltk.tag import UnigramTagger, BigramTagger, TrigramTagger, SequentialBackoffTagger\n",
        "from nltk.corpus import names\n",
        "import nltk\n",
        "nltk.download('names')"
      ],
      "execution_count": 2,
      "outputs": [
        {
          "output_type": "stream",
          "text": [
            "[nltk_data] Downloading package names to /root/nltk_data...\n",
            "[nltk_data]   Package names is already up-to-date!\n"
          ],
          "name": "stdout"
        },
        {
          "output_type": "execute_result",
          "data": {
            "text/plain": [
              "True"
            ]
          },
          "metadata": {
            "tags": []
          },
          "execution_count": 2
        }
      ]
    },
    {
      "cell_type": "code",
      "metadata": {
        "id": "QbOx0dmC2RJh"
      },
      "source": [
        "# loading data\n",
        "full_train = pyconll.load_from_file('datasets/ru_syntagrus-ud-train.conllu')\n",
        "full_test = pyconll.load_from_file('datasets/ru_syntagrus-ud-dev.conllu')"
      ],
      "execution_count": 3,
      "outputs": []
    },
    {
      "cell_type": "code",
      "metadata": {
        "id": "mHT3OVNw2RJi"
      },
      "source": [
        "def convert_data(dataset):\n",
        "    result = []\n",
        "\n",
        "    for sent in dataset:\n",
        "        for token in sent:\n",
        "            result.append((token.form.lower(), token.upos))\n",
        "            \n",
        "    return result"
      ],
      "execution_count": 4,
      "outputs": []
    },
    {
      "cell_type": "code",
      "metadata": {
        "colab": {
          "base_uri": "https://localhost:8080/"
        },
        "id": "lRsKxHN72RJi",
        "outputId": "fa0b83d3-6d88-4438-a8c3-867015cf917a"
      },
      "source": [
        "train_data = convert_data(full_train) \n",
        "train_data[:5]"
      ],
      "execution_count": 5,
      "outputs": [
        {
          "output_type": "execute_result",
          "data": {
            "text/plain": [
              "[('анкета', 'NOUN'),\n",
              " ('.', 'PUNCT'),\n",
              " ('начальник', 'NOUN'),\n",
              " ('областного', 'ADJ'),\n",
              " ('управления', 'NOUN')]"
            ]
          },
          "metadata": {
            "tags": []
          },
          "execution_count": 5
        }
      ]
    },
    {
      "cell_type": "code",
      "metadata": {
        "colab": {
          "base_uri": "https://localhost:8080/"
        },
        "id": "8KU1k6B32RJl",
        "outputId": "1870d540-e705-451d-f97d-f3ede74bdbe0"
      },
      "source": [
        "test_data = convert_data(full_test) \n",
        "test_data[:5]"
      ],
      "execution_count": 6,
      "outputs": [
        {
          "output_type": "execute_result",
          "data": {
            "text/plain": [
              "[('алгоритм', 'NOUN'),\n",
              " (',', 'PUNCT'),\n",
              " ('от', 'ADP'),\n",
              " ('имени', 'NOUN'),\n",
              " ('учёного', 'NOUN')]"
            ]
          },
          "metadata": {
            "tags": []
          },
          "execution_count": 6
        }
      ]
    },
    {
      "cell_type": "markdown",
      "metadata": {
        "id": "FgJQWSgM2RJm"
      },
      "source": [
        "### 1. проверить UnigramTagger, BigramTagger, TrigramTagger и их комбинации "
      ]
    },
    {
      "cell_type": "code",
      "metadata": {
        "id": "rmROGKCw2RJm"
      },
      "source": [
        "def backoff_tagger(train_sents, tagger_classes, backoff=None):\n",
        "    for cls in tagger_classes:\n",
        "        backoff = cls(train_sents, backoff=backoff)\n",
        "    return backoff"
      ],
      "execution_count": 7,
      "outputs": []
    },
    {
      "cell_type": "code",
      "metadata": {
        "colab": {
          "base_uri": "https://localhost:8080/",
          "height": 492
        },
        "id": "TecMqG9g2RJm",
        "outputId": "d0353273-853f-478d-b027-756555e7f54d"
      },
      "source": [
        "df_score = pd.DataFrame(columns=['values', 'UnigramTagger', 'BigramTagger', 'TrigramTagger']).set_index('values')\n",
        "COUNT = (1000, 2000, 4000, 8000, 16000)\n",
        "\n",
        "for C in COUNT:\n",
        "    \n",
        "    unigram_tagger = UnigramTagger([train_data[:C]])\n",
        "    bigram_tagger = BigramTagger([train_data[:C]])\n",
        "    trigram_tagger = TrigramTagger([train_data[:C]])\n",
        "    combine_tagger = backoff_tagger([train_data[:C]], [UnigramTagger, BigramTagger, TrigramTagger])\n",
        "\n",
        "    df_score.loc[C, 'UnigramTagger'] = unigram_tagger.evaluate([test_data])\n",
        "    df_score.loc[C, 'BigramTagger'] = bigram_tagger.evaluate([test_data])\n",
        "    df_score.loc[C, 'TrigramTagger'] = trigram_tagger.evaluate([test_data])\n",
        "    df_score.loc[C, 'CombineTagger'] = combine_tagger.evaluate([test_data])\n",
        "    \n",
        "df_score.plot(kind='barh', grid=True, title='Score', figsize=(10,4))\n",
        "df_score"
      ],
      "execution_count": 8,
      "outputs": [
        {
          "output_type": "execute_result",
          "data": {
            "text/html": [
              "<div>\n",
              "<style scoped>\n",
              "    .dataframe tbody tr th:only-of-type {\n",
              "        vertical-align: middle;\n",
              "    }\n",
              "\n",
              "    .dataframe tbody tr th {\n",
              "        vertical-align: top;\n",
              "    }\n",
              "\n",
              "    .dataframe thead th {\n",
              "        text-align: right;\n",
              "    }\n",
              "</style>\n",
              "<table border=\"1\" class=\"dataframe\">\n",
              "  <thead>\n",
              "    <tr style=\"text-align: right;\">\n",
              "      <th></th>\n",
              "      <th>UnigramTagger</th>\n",
              "      <th>BigramTagger</th>\n",
              "      <th>TrigramTagger</th>\n",
              "      <th>CombineTagger</th>\n",
              "    </tr>\n",
              "    <tr>\n",
              "      <th>values</th>\n",
              "      <th></th>\n",
              "      <th></th>\n",
              "      <th></th>\n",
              "      <th></th>\n",
              "    </tr>\n",
              "  </thead>\n",
              "  <tbody>\n",
              "    <tr>\n",
              "      <th>1000</th>\n",
              "      <td>0.399951</td>\n",
              "      <td>0.00174401</td>\n",
              "      <td>0.00171873</td>\n",
              "      <td>0.401164</td>\n",
              "    </tr>\n",
              "    <tr>\n",
              "      <th>2000</th>\n",
              "      <td>0.449963</td>\n",
              "      <td>0.00174401</td>\n",
              "      <td>0.00171873</td>\n",
              "      <td>0.451429</td>\n",
              "    </tr>\n",
              "    <tr>\n",
              "      <th>4000</th>\n",
              "      <td>0.489064</td>\n",
              "      <td>0.00174401</td>\n",
              "      <td>0.00171873</td>\n",
              "      <td>0.491111</td>\n",
              "    </tr>\n",
              "    <tr>\n",
              "      <th>8000</th>\n",
              "      <td>0.525351</td>\n",
              "      <td>0.00722879</td>\n",
              "      <td>0.00171873</td>\n",
              "      <td>0.527390</td>\n",
              "    </tr>\n",
              "    <tr>\n",
              "      <th>16000</th>\n",
              "      <td>0.585718</td>\n",
              "      <td>0.0879503</td>\n",
              "      <td>0.00171873</td>\n",
              "      <td>0.588237</td>\n",
              "    </tr>\n",
              "  </tbody>\n",
              "</table>\n",
              "</div>"
            ],
            "text/plain": [
              "       UnigramTagger BigramTagger TrigramTagger  CombineTagger\n",
              "values                                                        \n",
              "1000        0.399951   0.00174401    0.00171873       0.401164\n",
              "2000        0.449963   0.00174401    0.00171873       0.451429\n",
              "4000        0.489064   0.00174401    0.00171873       0.491111\n",
              "8000        0.525351   0.00722879    0.00171873       0.527390\n",
              "16000       0.585718    0.0879503    0.00171873       0.588237"
            ]
          },
          "metadata": {
            "tags": []
          },
          "execution_count": 8
        },
        {
          "output_type": "display_data",
          "data": {
            "image/png": "[encoded data removed]",
            "text/plain": [
              "<Figure size 720x288 with 1 Axes>"
            ]
          },
          "metadata": {
            "tags": [],
            "needs_background": "light"
          }
        }
      ]
    },
    {
      "cell_type": "markdown",
      "metadata": {
        "id": "rt_XWP3T2RJn"
      },
      "source": [
        "#### Вывод:\n",
        "- Скорость сильно падает при увеличении количества объектов для обучения\n",
        "- Для хорошей точности необходимо большое число объектов > 80000\n",
        "- В соло триграмм и биграмм теггеры сильно проигрывают в точности униграмму\n",
        "- Комбинация не всегда показывает лучший результат\n",
        "- До числа объектов < 8000, скор биграмма не растет\n",
        "- При приведении к нижнему регистру всех обучающих данных скор немного поднялся"
      ]
    },
    {
      "cell_type": "markdown",
      "metadata": {
        "id": "8gNIRKux2RJn"
      },
      "source": [
        "### 2. написать свой теггер как на занятии, но улучшить попробовать разные векторайзеры, добавить знание не только букв и слов но и совместно объединить эти признаки  "
      ]
    },
    {
      "cell_type": "code",
      "metadata": {
        "id": "IM3Ac_pU2RJk"
      },
      "source": [
        "def split_tok_lbl(data):\n",
        "  toks = []\n",
        "  lbls = []\n",
        "\n",
        "  for tok, lbl in data:\n",
        "    toks.append(tok)\n",
        "    lbls.append('NO_TAG' if lbl is None else lbl)\n",
        "\n",
        "  return toks, lbls"
      ],
      "execution_count": 9,
      "outputs": []
    },
    {
      "cell_type": "code",
      "metadata": {
        "colab": {
          "base_uri": "https://localhost:8080/"
        },
        "id": "am9jfYJuSEnS",
        "outputId": "1baf11e6-58ed-406b-f2d4-6b3818e07d17"
      },
      "source": [
        "train_tok, train_lbls = split_tok_lbl(train_data)\n",
        "train_tok[:5], train_lbls[:5]"
      ],
      "execution_count": 10,
      "outputs": [
        {
          "output_type": "execute_result",
          "data": {
            "text/plain": [
              "(['анкета', '.', 'начальник', 'областного', 'управления'],\n",
              " ['NOUN', 'PUNCT', 'NOUN', 'ADJ', 'NOUN'])"
            ]
          },
          "metadata": {
            "tags": []
          },
          "execution_count": 10
        }
      ]
    },
    {
      "cell_type": "code",
      "metadata": {
        "colab": {
          "base_uri": "https://localhost:8080/"
        },
        "id": "KZNvEfBw2RJl",
        "outputId": "575a7d23-1ca7-4ab5-a09e-56ce2f92f53c"
      },
      "source": [
        "test_tok, test_lbls = split_tok_lbl(test_data)\n",
        "test_tok[:5], test_lbls[:5]"
      ],
      "execution_count": 11,
      "outputs": [
        {
          "output_type": "execute_result",
          "data": {
            "text/plain": [
              "(['алгоритм', ',', 'от', 'имени', 'учёного'],\n",
              " ['NOUN', 'PUNCT', 'ADP', 'NOUN', 'NOUN'])"
            ]
          },
          "metadata": {
            "tags": []
          },
          "execution_count": 11
        }
      ]
    },
    {
      "cell_type": "code",
      "metadata": {
        "colab": {
          "base_uri": "https://localhost:8080/",
          "height": 1000
        },
        "id": "QAy_Nn8Og8zY",
        "outputId": "cd42b0e3-00d0-40e5-c76f-783ad9511f9c"
      },
      "source": [
        "COUNT = 16000\n",
        "\n",
        "df_score_vec = pd.DataFrame(columns=['vectorizer', 'CastomTagger']).set_index('vectorizer')\n",
        "\n",
        "le = LabelEncoder()\n",
        "y_train = le.fit_transform(train_lbls)\n",
        "y_test = le.transform(test_lbls)\n",
        "print(le.classes_)\n",
        "\n",
        "for key_vec, val_vec in {'hv_char': HashingVectorizer(ngram_range=(1,5), analyzer='char', n_features=100),\n",
        "                         'cv_char': CountVectorizer(ngram_range=(1,5), analyzer='char', max_features=100),\n",
        "                         'hv_word': HashingVectorizer(ngram_range=(1,5), analyzer='word', n_features=100),\n",
        "                         'cv_word': CountVectorizer(ngram_range=(1,5), analyzer='word', max_features=100),\n",
        "                         'hv_ch_w': HashingVectorizer(ngram_range=(1,5), analyzer='char_wb', n_features=100),\n",
        "                         'cv_ch_w': CountVectorizer(ngram_range=(1,5), analyzer='char_wb', max_features=100)}.items():\n",
        "\n",
        "    X_train = val_vec.fit_transform(train_tok[:COUNT])\n",
        "    X_test = val_vec.transform(test_tok)\n",
        "\n",
        "    lr = LogisticRegression()\n",
        "    lr.fit(X_train, y_train[:COUNT])\n",
        "    y_pred = lr.predict(X_test)\n",
        "\n",
        "    df_score_vec.loc[key_vec, 'CastomTagger'] = accuracy_score(y_test, y_pred)\n",
        "\n",
        "df_score_vec.plot(kind='barh', grid=True, title='Score', figsize=(10,4))\n",
        "df_score_vec"
      ],
      "execution_count": 12,
      "outputs": [
        {
          "output_type": "stream",
          "text": [
            "['ADJ' 'ADP' 'ADV' 'AUX' 'CCONJ' 'DET' 'INTJ' 'NOUN' 'NO_TAG' 'NUM' 'PART'\n",
            " 'PRON' 'PROPN' 'PUNCT' 'SCONJ' 'SYM' 'VERB' 'X']\n"
          ],
          "name": "stdout"
        },
        {
          "output_type": "stream",
          "text": [
            "/usr/local/lib/python3.7/dist-packages/sklearn/linear_model/_logistic.py:940: ConvergenceWarning: lbfgs failed to converge (status=1):\n",
            "STOP: TOTAL NO. of ITERATIONS REACHED LIMIT.\n",
            "\n",
            "Increase the number of iterations (max_iter) or scale the data as shown in:\n",
            "    https://scikit-learn.org/stable/modules/preprocessing.html\n",
            "Please also refer to the documentation for alternative solver options:\n",
            "    https://scikit-learn.org/stable/modules/linear_model.html#logistic-regression\n",
            "  extra_warning_msg=_LOGISTIC_SOLVER_CONVERGENCE_MSG)\n",
            "/usr/local/lib/python3.7/dist-packages/sklearn/linear_model/_logistic.py:940: ConvergenceWarning: lbfgs failed to converge (status=1):\n",
            "STOP: TOTAL NO. of ITERATIONS REACHED LIMIT.\n",
            "\n",
            "Increase the number of iterations (max_iter) or scale the data as shown in:\n",
            "    https://scikit-learn.org/stable/modules/preprocessing.html\n",
            "Please also refer to the documentation for alternative solver options:\n",
            "    https://scikit-learn.org/stable/modules/linear_model.html#logistic-regression\n",
            "  extra_warning_msg=_LOGISTIC_SOLVER_CONVERGENCE_MSG)\n",
            "/usr/local/lib/python3.7/dist-packages/sklearn/linear_model/_logistic.py:940: ConvergenceWarning: lbfgs failed to converge (status=1):\n",
            "STOP: TOTAL NO. of ITERATIONS REACHED LIMIT.\n",
            "\n",
            "Increase the number of iterations (max_iter) or scale the data as shown in:\n",
            "    https://scikit-learn.org/stable/modules/preprocessing.html\n",
            "Please also refer to the documentation for alternative solver options:\n",
            "    https://scikit-learn.org/stable/modules/linear_model.html#logistic-regression\n",
            "  extra_warning_msg=_LOGISTIC_SOLVER_CONVERGENCE_MSG)\n",
            "/usr/local/lib/python3.7/dist-packages/sklearn/linear_model/_logistic.py:940: ConvergenceWarning: lbfgs failed to converge (status=1):\n",
            "STOP: TOTAL NO. of ITERATIONS REACHED LIMIT.\n",
            "\n",
            "Increase the number of iterations (max_iter) or scale the data as shown in:\n",
            "    https://scikit-learn.org/stable/modules/preprocessing.html\n",
            "Please also refer to the documentation for alternative solver options:\n",
            "    https://scikit-learn.org/stable/modules/linear_model.html#logistic-regression\n",
            "  extra_warning_msg=_LOGISTIC_SOLVER_CONVERGENCE_MSG)\n",
            "/usr/local/lib/python3.7/dist-packages/sklearn/linear_model/_logistic.py:940: ConvergenceWarning: lbfgs failed to converge (status=1):\n",
            "STOP: TOTAL NO. of ITERATIONS REACHED LIMIT.\n",
            "\n",
            "Increase the number of iterations (max_iter) or scale the data as shown in:\n",
            "    https://scikit-learn.org/stable/modules/preprocessing.html\n",
            "Please also refer to the documentation for alternative solver options:\n",
            "    https://scikit-learn.org/stable/modules/linear_model.html#logistic-regression\n",
            "  extra_warning_msg=_LOGISTIC_SOLVER_CONVERGENCE_MSG)\n",
            "/usr/local/lib/python3.7/dist-packages/sklearn/linear_model/_logistic.py:940: ConvergenceWarning: lbfgs failed to converge (status=1):\n",
            "STOP: TOTAL NO. of ITERATIONS REACHED LIMIT.\n",
            "\n",
            "Increase the number of iterations (max_iter) or scale the data as shown in:\n",
            "    https://scikit-learn.org/stable/modules/preprocessing.html\n",
            "Please also refer to the documentation for alternative solver options:\n",
            "    https://scikit-learn.org/stable/modules/linear_model.html#logistic-regression\n",
            "  extra_warning_msg=_LOGISTIC_SOLVER_CONVERGENCE_MSG)\n"
          ],
          "name": "stderr"
        },
        {
          "output_type": "execute_result",
          "data": {
            "text/html": [
              "<div>\n",
              "<style scoped>\n",
              "    .dataframe tbody tr th:only-of-type {\n",
              "        vertical-align: middle;\n",
              "    }\n",
              "\n",
              "    .dataframe tbody tr th {\n",
              "        vertical-align: top;\n",
              "    }\n",
              "\n",
              "    .dataframe thead th {\n",
              "        text-align: right;\n",
              "    }\n",
              "</style>\n",
              "<table border=\"1\" class=\"dataframe\">\n",
              "  <thead>\n",
              "    <tr style=\"text-align: right;\">\n",
              "      <th></th>\n",
              "      <th>CastomTagger</th>\n",
              "    </tr>\n",
              "    <tr>\n",
              "      <th>vectorizer</th>\n",
              "      <th></th>\n",
              "    </tr>\n",
              "  </thead>\n",
              "  <tbody>\n",
              "    <tr>\n",
              "      <th>hv_char</th>\n",
              "      <td>0.644054</td>\n",
              "    </tr>\n",
              "    <tr>\n",
              "      <th>cv_char</th>\n",
              "      <td>0.757625</td>\n",
              "    </tr>\n",
              "    <tr>\n",
              "      <th>hv_word</th>\n",
              "      <td>0.231187</td>\n",
              "    </tr>\n",
              "    <tr>\n",
              "      <th>cv_word</th>\n",
              "      <td>0.360193</td>\n",
              "    </tr>\n",
              "    <tr>\n",
              "      <th>hv_ch_w</th>\n",
              "      <td>0.703426</td>\n",
              "    </tr>\n",
              "    <tr>\n",
              "      <th>cv_ch_w</th>\n",
              "      <td>0.760641</td>\n",
              "    </tr>\n",
              "  </tbody>\n",
              "</table>\n",
              "</div>"
            ],
            "text/plain": [
              "           CastomTagger\n",
              "vectorizer             \n",
              "hv_char        0.644054\n",
              "cv_char        0.757625\n",
              "hv_word        0.231187\n",
              "cv_word        0.360193\n",
              "hv_ch_w        0.703426\n",
              "cv_ch_w        0.760641"
            ]
          },
          "metadata": {
            "tags": []
          },
          "execution_count": 12
        },
        {
          "output_type": "display_data",
          "data": {
            "image/png": "[encoded data removed]",
            "text/plain": [
              "<Figure size 720x288 with 1 Axes>"
            ]
          },
          "metadata": {
            "tags": [],
            "needs_background": "light"
          }
        }
      ]
    },
    {
      "cell_type": "markdown",
      "metadata": {
        "id": "JjKR7NpIvxMd"
      },
      "source": [
        "### Вывод:\n",
        "- Лучше всего себя показали комбинации букв и слов\n",
        "- Чисто на словах скор сильно упал"
      ]
    },
    {
      "cell_type": "markdown",
      "metadata": {
        "id": "n1TlGN7c2RJo"
      },
      "source": [
        "### 3. вместо векторайзеров взять эмбединги попробовать (word2vec и fasttext по желанию дополнительно можно взять tf.keras.layers.Embedding)"
      ]
    },
    {
      "cell_type": "markdown",
      "metadata": {
        "id": "thynQaTW2RJp"
      },
      "source": [
        "### 4. взять не только эмбединги каждого слова, но и взять соседей, т.е. информацию о соседях количество соседей выбрать самим (узнать наилучшее количество соседей)  "
      ]
    },
    {
      "cell_type": "code",
      "metadata": {
        "colab": {
          "base_uri": "https://localhost:8080/",
          "height": 1000
        },
        "id": "8ocaNshv0ZBf",
        "outputId": "3de8f1ae-dbe9-4a9e-9941-ab0896fc0286"
      },
      "source": [
        "for window in (3, 5, 9, 15):\n",
        "  for emb_key, emd_val in {'W2V': Word2Vec(sentences=[train_tok[:COUNT] + test_tok], size=300, window=window, min_count=1), \n",
        "                           'FT': FastText(sentences=[train_tok[:COUNT] + test_tok], size=300, window=window, min_count=1)}.items():\n",
        "\n",
        "    X_train = np.array([emd_val[word] for word in train_tok[:COUNT]])\n",
        "    X_test = np.array([emd_val[word] for word in test_tok])\n",
        "\n",
        "    lr = LogisticRegression()\n",
        "    lr.fit(X_train, y_train[:COUNT])\n",
        "    y_pred = lr.predict(X_test)\n",
        "\n",
        "    df_score_vec.loc[f'{emb_key} {window}', 'CastomTagger'] = accuracy_score(y_test, y_pred)\n",
        "\n",
        "df_score_vec.plot(kind='barh', grid=True, title='Score', figsize=(10,4))\n",
        "df_score_vec"
      ],
      "execution_count": 13,
      "outputs": [
        {
          "output_type": "stream",
          "text": [
            "/usr/local/lib/python3.7/dist-packages/ipykernel_launcher.py:5: DeprecationWarning: Call to deprecated `__getitem__` (Method will be removed in 4.0.0, use self.wv.__getitem__() instead).\n",
            "  \"\"\"\n",
            "/usr/local/lib/python3.7/dist-packages/ipykernel_launcher.py:6: DeprecationWarning: Call to deprecated `__getitem__` (Method will be removed in 4.0.0, use self.wv.__getitem__() instead).\n",
            "  \n",
            "/usr/local/lib/python3.7/dist-packages/sklearn/linear_model/_logistic.py:940: ConvergenceWarning: lbfgs failed to converge (status=1):\n",
            "STOP: TOTAL NO. of ITERATIONS REACHED LIMIT.\n",
            "\n",
            "Increase the number of iterations (max_iter) or scale the data as shown in:\n",
            "    https://scikit-learn.org/stable/modules/preprocessing.html\n",
            "Please also refer to the documentation for alternative solver options:\n",
            "    https://scikit-learn.org/stable/modules/linear_model.html#logistic-regression\n",
            "  extra_warning_msg=_LOGISTIC_SOLVER_CONVERGENCE_MSG)\n",
            "/usr/local/lib/python3.7/dist-packages/ipykernel_launcher.py:5: DeprecationWarning: Call to deprecated `__getitem__` (Method will be removed in 4.0.0, use self.wv.__getitem__() instead).\n",
            "  \"\"\"\n",
            "/usr/local/lib/python3.7/dist-packages/ipykernel_launcher.py:6: DeprecationWarning: Call to deprecated `__getitem__` (Method will be removed in 4.0.0, use self.wv.__getitem__() instead).\n",
            "  \n",
            "/usr/local/lib/python3.7/dist-packages/sklearn/linear_model/_logistic.py:940: ConvergenceWarning: lbfgs failed to converge (status=1):\n",
            "STOP: TOTAL NO. of ITERATIONS REACHED LIMIT.\n",
            "\n",
            "Increase the number of iterations (max_iter) or scale the data as shown in:\n",
            "    https://scikit-learn.org/stable/modules/preprocessing.html\n",
            "Please also refer to the documentation for alternative solver options:\n",
            "    https://scikit-learn.org/stable/modules/linear_model.html#logistic-regression\n",
            "  extra_warning_msg=_LOGISTIC_SOLVER_CONVERGENCE_MSG)\n",
            "/usr/local/lib/python3.7/dist-packages/ipykernel_launcher.py:5: DeprecationWarning: Call to deprecated `__getitem__` (Method will be removed in 4.0.0, use self.wv.__getitem__() instead).\n",
            "  \"\"\"\n",
            "/usr/local/lib/python3.7/dist-packages/ipykernel_launcher.py:6: DeprecationWarning: Call to deprecated `__getitem__` (Method will be removed in 4.0.0, use self.wv.__getitem__() instead).\n",
            "  \n",
            "/usr/local/lib/python3.7/dist-packages/sklearn/linear_model/_logistic.py:940: ConvergenceWarning: lbfgs failed to converge (status=1):\n",
            "STOP: TOTAL NO. of ITERATIONS REACHED LIMIT.\n",
            "\n",
            "Increase the number of iterations (max_iter) or scale the data as shown in:\n",
            "    https://scikit-learn.org/stable/modules/preprocessing.html\n",
            "Please also refer to the documentation for alternative solver options:\n",
            "    https://scikit-learn.org/stable/modules/linear_model.html#logistic-regression\n",
            "  extra_warning_msg=_LOGISTIC_SOLVER_CONVERGENCE_MSG)\n",
            "/usr/local/lib/python3.7/dist-packages/ipykernel_launcher.py:5: DeprecationWarning: Call to deprecated `__getitem__` (Method will be removed in 4.0.0, use self.wv.__getitem__() instead).\n",
            "  \"\"\"\n",
            "/usr/local/lib/python3.7/dist-packages/ipykernel_launcher.py:6: DeprecationWarning: Call to deprecated `__getitem__` (Method will be removed in 4.0.0, use self.wv.__getitem__() instead).\n",
            "  \n",
            "/usr/local/lib/python3.7/dist-packages/sklearn/linear_model/_logistic.py:940: ConvergenceWarning: lbfgs failed to converge (status=1):\n",
            "STOP: TOTAL NO. of ITERATIONS REACHED LIMIT.\n",
            "\n",
            "Increase the number of iterations (max_iter) or scale the data as shown in:\n",
            "    https://scikit-learn.org/stable/modules/preprocessing.html\n",
            "Please also refer to the documentation for alternative solver options:\n",
            "    https://scikit-learn.org/stable/modules/linear_model.html#logistic-regression\n",
            "  extra_warning_msg=_LOGISTIC_SOLVER_CONVERGENCE_MSG)\n",
            "/usr/local/lib/python3.7/dist-packages/ipykernel_launcher.py:5: DeprecationWarning: Call to deprecated `__getitem__` (Method will be removed in 4.0.0, use self.wv.__getitem__() instead).\n",
            "  \"\"\"\n",
            "/usr/local/lib/python3.7/dist-packages/ipykernel_launcher.py:6: DeprecationWarning: Call to deprecated `__getitem__` (Method will be removed in 4.0.0, use self.wv.__getitem__() instead).\n",
            "  \n",
            "/usr/local/lib/python3.7/dist-packages/sklearn/linear_model/_logistic.py:940: ConvergenceWarning: lbfgs failed to converge (status=1):\n",
            "STOP: TOTAL NO. of ITERATIONS REACHED LIMIT.\n",
            "\n",
            "Increase the number of iterations (max_iter) or scale the data as shown in:\n",
            "    https://scikit-learn.org/stable/modules/preprocessing.html\n",
            "Please also refer to the documentation for alternative solver options:\n",
            "    https://scikit-learn.org/stable/modules/linear_model.html#logistic-regression\n",
            "  extra_warning_msg=_LOGISTIC_SOLVER_CONVERGENCE_MSG)\n",
            "/usr/local/lib/python3.7/dist-packages/ipykernel_launcher.py:5: DeprecationWarning: Call to deprecated `__getitem__` (Method will be removed in 4.0.0, use self.wv.__getitem__() instead).\n",
            "  \"\"\"\n",
            "/usr/local/lib/python3.7/dist-packages/ipykernel_launcher.py:6: DeprecationWarning: Call to deprecated `__getitem__` (Method will be removed in 4.0.0, use self.wv.__getitem__() instead).\n",
            "  \n",
            "/usr/local/lib/python3.7/dist-packages/sklearn/linear_model/_logistic.py:940: ConvergenceWarning: lbfgs failed to converge (status=1):\n",
            "STOP: TOTAL NO. of ITERATIONS REACHED LIMIT.\n",
            "\n",
            "Increase the number of iterations (max_iter) or scale the data as shown in:\n",
            "    https://scikit-learn.org/stable/modules/preprocessing.html\n",
            "Please also refer to the documentation for alternative solver options:\n",
            "    https://scikit-learn.org/stable/modules/linear_model.html#logistic-regression\n",
            "  extra_warning_msg=_LOGISTIC_SOLVER_CONVERGENCE_MSG)\n",
            "/usr/local/lib/python3.7/dist-packages/ipykernel_launcher.py:5: DeprecationWarning: Call to deprecated `__getitem__` (Method will be removed in 4.0.0, use self.wv.__getitem__() instead).\n",
            "  \"\"\"\n",
            "/usr/local/lib/python3.7/dist-packages/ipykernel_launcher.py:6: DeprecationWarning: Call to deprecated `__getitem__` (Method will be removed in 4.0.0, use self.wv.__getitem__() instead).\n",
            "  \n",
            "/usr/local/lib/python3.7/dist-packages/sklearn/linear_model/_logistic.py:940: ConvergenceWarning: lbfgs failed to converge (status=1):\n",
            "STOP: TOTAL NO. of ITERATIONS REACHED LIMIT.\n",
            "\n",
            "Increase the number of iterations (max_iter) or scale the data as shown in:\n",
            "    https://scikit-learn.org/stable/modules/preprocessing.html\n",
            "Please also refer to the documentation for alternative solver options:\n",
            "    https://scikit-learn.org/stable/modules/linear_model.html#logistic-regression\n",
            "  extra_warning_msg=_LOGISTIC_SOLVER_CONVERGENCE_MSG)\n",
            "/usr/local/lib/python3.7/dist-packages/ipykernel_launcher.py:5: DeprecationWarning: Call to deprecated `__getitem__` (Method will be removed in 4.0.0, use self.wv.__getitem__() instead).\n",
            "  \"\"\"\n",
            "/usr/local/lib/python3.7/dist-packages/ipykernel_launcher.py:6: DeprecationWarning: Call to deprecated `__getitem__` (Method will be removed in 4.0.0, use self.wv.__getitem__() instead).\n",
            "  \n",
            "/usr/local/lib/python3.7/dist-packages/sklearn/linear_model/_logistic.py:940: ConvergenceWarning: lbfgs failed to converge (status=1):\n",
            "STOP: TOTAL NO. of ITERATIONS REACHED LIMIT.\n",
            "\n",
            "Increase the number of iterations (max_iter) or scale the data as shown in:\n",
            "    https://scikit-learn.org/stable/modules/preprocessing.html\n",
            "Please also refer to the documentation for alternative solver options:\n",
            "    https://scikit-learn.org/stable/modules/linear_model.html#logistic-regression\n",
            "  extra_warning_msg=_LOGISTIC_SOLVER_CONVERGENCE_MSG)\n"
          ],
          "name": "stderr"
        },
        {
          "output_type": "execute_result",
          "data": {
            "text/html": [
              "<div>\n",
              "<style scoped>\n",
              "    .dataframe tbody tr th:only-of-type {\n",
              "        vertical-align: middle;\n",
              "    }\n",
              "\n",
              "    .dataframe tbody tr th {\n",
              "        vertical-align: top;\n",
              "    }\n",
              "\n",
              "    .dataframe thead th {\n",
              "        text-align: right;\n",
              "    }\n",
              "</style>\n",
              "<table border=\"1\" class=\"dataframe\">\n",
              "  <thead>\n",
              "    <tr style=\"text-align: right;\">\n",
              "      <th></th>\n",
              "      <th>CastomTagger</th>\n",
              "    </tr>\n",
              "    <tr>\n",
              "      <th>vectorizer</th>\n",
              "      <th></th>\n",
              "    </tr>\n",
              "  </thead>\n",
              "  <tbody>\n",
              "    <tr>\n",
              "      <th>hv_char</th>\n",
              "      <td>0.644054</td>\n",
              "    </tr>\n",
              "    <tr>\n",
              "      <th>cv_char</th>\n",
              "      <td>0.757625</td>\n",
              "    </tr>\n",
              "    <tr>\n",
              "      <th>hv_word</th>\n",
              "      <td>0.231187</td>\n",
              "    </tr>\n",
              "    <tr>\n",
              "      <th>cv_word</th>\n",
              "      <td>0.360193</td>\n",
              "    </tr>\n",
              "    <tr>\n",
              "      <th>hv_ch_w</th>\n",
              "      <td>0.703426</td>\n",
              "    </tr>\n",
              "    <tr>\n",
              "      <th>cv_ch_w</th>\n",
              "      <td>0.760641</td>\n",
              "    </tr>\n",
              "    <tr>\n",
              "      <th>W2V 3</th>\n",
              "      <td>0.411123</td>\n",
              "    </tr>\n",
              "    <tr>\n",
              "      <th>FT 3</th>\n",
              "      <td>0.387853</td>\n",
              "    </tr>\n",
              "    <tr>\n",
              "      <th>W2V 5</th>\n",
              "      <td>0.417467</td>\n",
              "    </tr>\n",
              "    <tr>\n",
              "      <th>FT 5</th>\n",
              "      <td>0.423356</td>\n",
              "    </tr>\n",
              "    <tr>\n",
              "      <th>W2V 9</th>\n",
              "      <td>0.434393</td>\n",
              "    </tr>\n",
              "    <tr>\n",
              "      <th>FT 9</th>\n",
              "      <td>0.434798</td>\n",
              "    </tr>\n",
              "    <tr>\n",
              "      <th>W2V 15</th>\n",
              "      <td>0.436028</td>\n",
              "    </tr>\n",
              "    <tr>\n",
              "      <th>FT 15</th>\n",
              "      <td>0.429195</td>\n",
              "    </tr>\n",
              "  </tbody>\n",
              "</table>\n",
              "</div>"
            ],
            "text/plain": [
              "           CastomTagger\n",
              "vectorizer             \n",
              "hv_char        0.644054\n",
              "cv_char        0.757625\n",
              "hv_word        0.231187\n",
              "cv_word        0.360193\n",
              "hv_ch_w        0.703426\n",
              "cv_ch_w        0.760641\n",
              "W2V 3          0.411123\n",
              "FT 3           0.387853\n",
              "W2V 5          0.417467\n",
              "FT 5           0.423356\n",
              "W2V 9          0.434393\n",
              "FT 9           0.434798\n",
              "W2V 15         0.436028\n",
              "FT 15          0.429195"
            ]
          },
          "metadata": {
            "tags": []
          },
          "execution_count": 13
        },
        {
          "output_type": "display_data",
          "data": {
            "image/png": "[encoded data removed]",
            "text/plain": [
              "<Figure size 720x288 with 1 Axes>"
            ]
          },
          "metadata": {
            "tags": [],
            "needs_background": "light"
          }
        }
      ]
    },
    {
      "cell_type": "markdown",
      "metadata": {
        "id": "IyDmC2JL2RJp"
      },
      "source": [
        "### 5. сравнить все реализованные методы сделать выводы"
      ]
    },
    {
      "cell_type": "markdown",
      "metadata": {
        "id": "2tKiQKjP1dXV"
      },
      "source": [
        "#### Вывод:\n",
        "- Эмбединги показали себя хуже, чем векторайзеры\n",
        "- Лучший эмбеддин - W2V с 15 сосебяди"
      ]
    }
  ]
}