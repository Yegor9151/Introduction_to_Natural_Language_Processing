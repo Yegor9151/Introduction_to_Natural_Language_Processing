{
 "cells": [
  {
   "cell_type": "markdown",
   "metadata": {
    "id": "nOZnXu6bIHbl"
   },
   "source": [
    "# Взять ноутбук colab_text_classification_part1.ipynb который разбирали на занятии и добавить пункты которые мы пропустили"
   ]
  },
  {
   "cell_type": "code",
   "execution_count": 1,
   "metadata": {
    "colab": {
     "base_uri": "https://localhost:8080/"
    },
    "id": "MiYkj_96L88r",
    "outputId": "e942a27a-9f39-4b98-ab8e-34083ea91567"
   },
   "outputs": [],
   "source": [
    "import sys\n",
    "sys.path.append('../')\n",
    "from src.text_preprocessor import TextPreprocessor\n",
    "\n",
    "import re\n",
    "import numpy as np\n",
    "import pandas as pd\n",
    "import matplotlib.pyplot as plt\n",
    "%matplotlib inline\n",
    "\n",
    "from sklearn.feature_extraction.text import CountVectorizer, TfidfVectorizer\n",
    "from sklearn.linear_model import LogisticRegression\n",
    "from sklearn.pipeline import Pipeline\n",
    "from sklearn.metrics import accuracy_score\n",
    "\n",
    "from collections import Counter\n",
    "\n",
    "import tensorflow as tf\n",
    "from tensorflow.keras import Sequential\n",
    "from tensorflow.keras import layers\n",
    "\n",
    "import nltk\n",
    "\n",
    "import warnings\n",
    "warnings.filterwarnings('ignore')"
   ]
  },
  {
   "cell_type": "markdown",
   "metadata": {},
   "source": [
    "# Base vars and funcs"
   ]
  },
  {
   "cell_type": "code",
   "execution_count": 2,
   "metadata": {},
   "outputs": [],
   "source": [
    "EPOCHS = 3\n",
    "\n",
    "eval_df = pd.DataFrame(columns=['vects']).set_index('vects')"
   ]
  },
  {
   "cell_type": "code",
   "execution_count": 3,
   "metadata": {
    "id": "8AMS5zRIhZZu"
   },
   "outputs": [],
   "source": [
    "def eval_model(model, test_df):\n",
    "    preds = model.predict(test_df['review'])\n",
    "    accuracy = accuracy_score(test_df['is_positive'], preds)\n",
    "    \n",
    "    result = round(accuracy*100, 2)\n",
    "    print(f'Test accuracy = {result}%')\n",
    "    \n",
    "    return result\n",
    "\n",
    "def convert(texts, word2idx, max_text_len):\n",
    "    data = np.zeros((len(texts), max_text_len), dtype=np.int)\n",
    "\n",
    "    for inx, text in enumerate(texts):\n",
    "        result = []\n",
    "        for word in text.split():\n",
    "            if word in word2idx:\n",
    "                result.append(word2idx[word])\n",
    "        padding = [0]*(max_text_len - len(result))\n",
    "        data[inx] = np.array(padding + result[-max_text_len:], dtype=np.int)\n",
    "\n",
    "    return data"
   ]
  },
  {
   "cell_type": "markdown",
   "metadata": {},
   "source": [
    "# Loading data"
   ]
  },
  {
   "cell_type": "code",
   "execution_count": 4,
   "metadata": {
    "colab": {
     "base_uri": "https://localhost:8080/"
    },
    "id": "E8OIJmFlMHJd",
    "outputId": "ff58d6ed-b0b7-4b5a-f2f6-8b6b5a4be8da"
   },
   "outputs": [
    {
     "name": "stdout",
     "output_type": "stream",
     "text": [
      "Train size = 25000\n",
      "Test size = 25000\n"
     ]
    }
   ],
   "source": [
    "# Loading data\n",
    "train_df = pd.read_csv(\"train.tsv\", delimiter=\"\\t\")\n",
    "test_df = pd.read_csv(\"test.tsv\", delimiter=\"\\t\")\n",
    "\n",
    "print(f'Train size = {len(train_df)}')\n",
    "print(f'Test size = {len(test_df)}')"
   ]
  },
  {
   "cell_type": "markdown",
   "metadata": {},
   "source": [
    "## Baseline"
   ]
  },
  {
   "cell_type": "code",
   "execution_count": 5,
   "metadata": {
    "colab": {
     "base_uri": "https://localhost:8080/",
     "height": 283
    },
    "id": "3f76lLHidnh2",
    "outputId": "e987acd3-d51e-4cb5-b590-637acc9748f8"
   },
   "outputs": [
    {
     "data": {
      "text/plain": [
       "<a list of 230 Patch objects>"
      ]
     },
     "execution_count": 5,
     "metadata": {},
     "output_type": "execute_result"
    },
    {
     "data": {
      "image/png": "[encoded data removed]",
      "text/plain": [
       "<Figure size 432x288 with 1 Axes>"
      ]
     },
     "metadata": {
      "needs_background": "light"
     },
     "output_type": "display_data"
    }
   ],
   "source": [
    "plt.hist(train_df['review'].apply(lambda text: len(text.split())), bins='auto')[2]"
   ]
  },
  {
   "cell_type": "code",
   "execution_count": 6,
   "metadata": {
    "colab": {
     "base_uri": "https://localhost:8080/"
    },
    "id": "uTxGA8eQeTDa",
    "outputId": "1e0e6233-21f5-4f47-bede-affb59d923ab"
   },
   "outputs": [
    {
     "name": "stdout",
     "output_type": "stream",
     "text": [
      "Words count 27299\n"
     ]
    }
   ],
   "source": [
    "words_counter = Counter((word for text in train_df['review'] for word in text.lower().split()))\n",
    "word2idx = {'':0, '<unk>':1}\n",
    "\n",
    "for word, count in words_counter.most_common():\n",
    "    if count < 10:\n",
    "        break\n",
    "    word2idx[word] = len(word2idx)\n",
    "\n",
    "print('Words count', len(word2idx))\n",
    "\n",
    "X_train = convert(train_df['review'], word2idx, 1000)\n",
    "X_test = convert(test_df['review'], word2idx, 1000)"
   ]
  },
  {
   "cell_type": "code",
   "execution_count": 7,
   "metadata": {},
   "outputs": [
    {
     "name": "stdout",
     "output_type": "stream",
     "text": [
      "Test accuracy = 86.67%\n",
      "Test accuracy = 88.31%\n",
      "Test accuracy = 88.63%\n",
      "Epoch 1/3\n",
      "196/196 [==============================] - 25s 127ms/step - loss: 0.6924 - accuracy: 0.5076 - val_loss: 0.6895 - val_accuracy: 0.5141\n",
      "Epoch 2/3\n",
      "196/196 [==============================] - 25s 125ms/step - loss: 0.6882 - accuracy: 0.5208 - val_loss: 0.6888 - val_accuracy: 0.5144\n",
      "Epoch 3/3\n",
      "196/196 [==============================] - 25s 127ms/step - loss: 0.6867 - accuracy: 0.5185 - val_loss: 0.6886 - val_accuracy: 0.5147\n",
      "782/782 [==============================] - ETA: 0s - loss: 0.6886 - accuracy: 0.51 - 6s 7ms/step - loss: 0.6886 - accuracy: 0.5147\n"
     ]
    },
    {
     "data": {
      "text/html": [
       "<div>\n",
       "<style scoped>\n",
       "    .dataframe tbody tr th:only-of-type {\n",
       "        vertical-align: middle;\n",
       "    }\n",
       "\n",
       "    .dataframe tbody tr th {\n",
       "        vertical-align: top;\n",
       "    }\n",
       "\n",
       "    .dataframe thead th {\n",
       "        text-align: right;\n",
       "    }\n",
       "</style>\n",
       "<table border=\"1\" class=\"dataframe\">\n",
       "  <thead>\n",
       "    <tr style=\"text-align: right;\">\n",
       "      <th></th>\n",
       "      <th>Baseline</th>\n",
       "    </tr>\n",
       "    <tr>\n",
       "      <th>vects</th>\n",
       "      <th></th>\n",
       "    </tr>\n",
       "  </thead>\n",
       "  <tbody>\n",
       "    <tr>\n",
       "      <th>CV</th>\n",
       "      <td>86.670000</td>\n",
       "    </tr>\n",
       "    <tr>\n",
       "      <th>Tfidf</th>\n",
       "      <td>88.310000</td>\n",
       "    </tr>\n",
       "    <tr>\n",
       "      <th>Tfidf_1_2</th>\n",
       "      <td>88.630000</td>\n",
       "    </tr>\n",
       "    <tr>\n",
       "      <th>W2I</th>\n",
       "      <td>51.466638</td>\n",
       "    </tr>\n",
       "    <tr>\n",
       "      <th>mean</th>\n",
       "      <td>78.769159</td>\n",
       "    </tr>\n",
       "  </tbody>\n",
       "</table>\n",
       "</div>"
      ],
      "text/plain": [
       "            Baseline\n",
       "vects               \n",
       "CV         86.670000\n",
       "Tfidf      88.310000\n",
       "Tfidf_1_2  88.630000\n",
       "W2I        51.466638\n",
       "mean       78.769159"
      ]
     },
     "execution_count": 7,
     "metadata": {},
     "output_type": "execute_result"
    },
    {
     "data": {
      "image/png": "[encoded data removed]",
      "text/plain": [
       "<Figure size 720x288 with 1 Axes>"
      ]
     },
     "metadata": {
      "needs_background": "light"
     },
     "output_type": "display_data"
    }
   ],
   "source": [
    "# Logistic Regression\n",
    "for key, val in {'CV': CountVectorizer(),\n",
    "                 'Tfidf': TfidfVectorizer(), \n",
    "                 'Tfidf_1_2': TfidfVectorizer(ngram_range=(1, 2))}.items():\n",
    "\n",
    "    model = Pipeline([\n",
    "        ('vectorizer', val),\n",
    "        ('classifier', LogisticRegression())\n",
    "    ])\n",
    "    model.fit(train_df['review'], train_df['is_positive'])\n",
    "\n",
    "    eval_df.loc[key, 'Baseline'] = eval_model(model, test_df)\n",
    "\n",
    "# tensorflow\n",
    "model = Sequential([\n",
    "    layers.Embedding(\n",
    "        input_dim=len(word2idx), \n",
    "        output_dim=64, \n",
    "        input_shape=(X_train.shape[1],)\n",
    "    ),\n",
    "    layers.MaxPooling1D(),\n",
    "    layers.Dense(units=10, activation='relu'),\n",
    "    layers.Dense(units=1, activation='sigmoid')\n",
    "])\n",
    "model.compile(\n",
    "    loss='binary_crossentropy',\n",
    "    optimizer='adam',\n",
    "    metrics=['accuracy']\n",
    ")\n",
    "model.fit(\n",
    "    X_train, train_df['is_positive'],\n",
    "    batch_size=128, epochs=EPOCHS,\n",
    "    validation_data=(X_test, test_df['is_positive'])\n",
    ")\n",
    "eval_df.loc['W2I', 'Baseline'] = model.evaluate(X_test, test_df['is_positive'])[1] * 100\n",
    "eval_df.loc['mean', 'Baseline'] = eval_df['Baseline'].mean()\n",
    "\n",
    "# view results\n",
    "eval_df.plot(kind='barh', grid=True, title='Score', figsize=(10,4))\n",
    "eval_df"
   ]
  },
  {
   "cell_type": "markdown",
   "metadata": {},
   "source": [
    "## 4. Поэкспериментируйте с подходом с сеточками на разных данных (с удалёнными сущностями или без)\n",
    "\n",
    "## 1. Посмотрите на токены если будут мусорные добавьте их в стоп слова и обучите заново"
   ]
  },
  {
   "cell_type": "code",
   "execution_count": 8,
   "metadata": {},
   "outputs": [
    {
     "data": {
      "text/html": [
       "<div>\n",
       "<style scoped>\n",
       "    .dataframe tbody tr th:only-of-type {\n",
       "        vertical-align: middle;\n",
       "    }\n",
       "\n",
       "    .dataframe tbody tr th {\n",
       "        vertical-align: top;\n",
       "    }\n",
       "\n",
       "    .dataframe thead th {\n",
       "        text-align: right;\n",
       "    }\n",
       "</style>\n",
       "<table border=\"1\" class=\"dataframe\">\n",
       "  <thead>\n",
       "    <tr style=\"text-align: right;\">\n",
       "      <th></th>\n",
       "      <th>is_positive</th>\n",
       "      <th>review</th>\n",
       "    </tr>\n",
       "  </thead>\n",
       "  <tbody>\n",
       "    <tr>\n",
       "      <th>0</th>\n",
       "      <td>0</td>\n",
       "      <td>Dreamgirls, despite its fistful of Tony wins i...</td>\n",
       "    </tr>\n",
       "    <tr>\n",
       "      <th>1</th>\n",
       "      <td>0</td>\n",
       "      <td>This show comes up with interesting locations ...</td>\n",
       "    </tr>\n",
       "    <tr>\n",
       "      <th>2</th>\n",
       "      <td>1</td>\n",
       "      <td>I simply love this movie. I also love the Ramo...</td>\n",
       "    </tr>\n",
       "    <tr>\n",
       "      <th>3</th>\n",
       "      <td>0</td>\n",
       "      <td>Spoilers ahead if you want to call them that.....</td>\n",
       "    </tr>\n",
       "    <tr>\n",
       "      <th>4</th>\n",
       "      <td>1</td>\n",
       "      <td>My all-time favorite movie! I have seen many m...</td>\n",
       "    </tr>\n",
       "    <tr>\n",
       "      <th>...</th>\n",
       "      <td>...</td>\n",
       "      <td>...</td>\n",
       "    </tr>\n",
       "    <tr>\n",
       "      <th>24995</th>\n",
       "      <td>1</td>\n",
       "      <td>I am a big fan of the movie, but not for the u...</td>\n",
       "    </tr>\n",
       "    <tr>\n",
       "      <th>24996</th>\n",
       "      <td>0</td>\n",
       "      <td>I'm not going to bother with a plot synopsis s...</td>\n",
       "    </tr>\n",
       "    <tr>\n",
       "      <th>24997</th>\n",
       "      <td>0</td>\n",
       "      <td>This movie . . . I don't know. Why they would ...</td>\n",
       "    </tr>\n",
       "    <tr>\n",
       "      <th>24998</th>\n",
       "      <td>1</td>\n",
       "      <td>Saw this film on DVD yesterday and was gob-sma...</td>\n",
       "    </tr>\n",
       "    <tr>\n",
       "      <th>24999</th>\n",
       "      <td>0</td>\n",
       "      <td>This was a disappointment - none of the nuance...</td>\n",
       "    </tr>\n",
       "  </tbody>\n",
       "</table>\n",
       "<p>25000 rows × 2 columns</p>\n",
       "</div>"
      ],
      "text/plain": [
       "       is_positive                                             review\n",
       "0                0  Dreamgirls, despite its fistful of Tony wins i...\n",
       "1                0  This show comes up with interesting locations ...\n",
       "2                1  I simply love this movie. I also love the Ramo...\n",
       "3                0  Spoilers ahead if you want to call them that.....\n",
       "4                1  My all-time favorite movie! I have seen many m...\n",
       "...            ...                                                ...\n",
       "24995            1  I am a big fan of the movie, but not for the u...\n",
       "24996            0  I'm not going to bother with a plot synopsis s...\n",
       "24997            0  This movie . . . I don't know. Why they would ...\n",
       "24998            1  Saw this film on DVD yesterday and was gob-sma...\n",
       "24999            0  This was a disappointment - none of the nuance...\n",
       "\n",
       "[25000 rows x 2 columns]"
      ]
     },
     "execution_count": 8,
     "metadata": {},
     "output_type": "execute_result"
    }
   ],
   "source": [
    "train_df"
   ]
  },
  {
   "cell_type": "markdown",
   "metadata": {},
   "source": [
    "# Preprocessing data"
   ]
  },
  {
   "cell_type": "code",
   "execution_count": 9,
   "metadata": {},
   "outputs": [],
   "source": [
    "train_prep = TextPreprocessor(train_df, 'review')\n",
    "test_prep = TextPreprocessor(test_df, 'review')"
   ]
  },
  {
   "cell_type": "markdown",
   "metadata": {},
   "source": [
    "#### train"
   ]
  },
  {
   "cell_type": "code",
   "execution_count": 10,
   "metadata": {},
   "outputs": [
    {
     "data": {
      "text/html": [
       "<div>\n",
       "<style scoped>\n",
       "    .dataframe tbody tr th:only-of-type {\n",
       "        vertical-align: middle;\n",
       "    }\n",
       "\n",
       "    .dataframe tbody tr th {\n",
       "        vertical-align: top;\n",
       "    }\n",
       "\n",
       "    .dataframe thead th {\n",
       "        text-align: right;\n",
       "    }\n",
       "</style>\n",
       "<table border=\"1\" class=\"dataframe\">\n",
       "  <thead>\n",
       "    <tr style=\"text-align: right;\">\n",
       "      <th></th>\n",
       "      <th>is_positive</th>\n",
       "      <th>review</th>\n",
       "    </tr>\n",
       "  </thead>\n",
       "  <tbody>\n",
       "    <tr>\n",
       "      <th>0</th>\n",
       "      <td>0</td>\n",
       "      <td>Dreamgirls, despite fistful Tony wins incredib...</td>\n",
       "    </tr>\n",
       "    <tr>\n",
       "      <th>1</th>\n",
       "      <td>0</td>\n",
       "      <td>This show comes interesting locations fast tra...</td>\n",
       "    </tr>\n",
       "    <tr>\n",
       "      <th>2</th>\n",
       "      <td>1</td>\n",
       "      <td>simply love movie. also love Ramones, sorta bi...</td>\n",
       "    </tr>\n",
       "    <tr>\n",
       "      <th>3</th>\n",
       "      <td>0</td>\n",
       "      <td>Spoilers ahead want call that...I would almost...</td>\n",
       "    </tr>\n",
       "    <tr>\n",
       "      <th>4</th>\n",
       "      <td>1</td>\n",
       "      <td>My all-time favorite movie! seen many movies, ...</td>\n",
       "    </tr>\n",
       "  </tbody>\n",
       "</table>\n",
       "</div>"
      ],
      "text/plain": [
       "   is_positive                                             review\n",
       "0            0  Dreamgirls, despite fistful Tony wins incredib...\n",
       "1            0  This show comes interesting locations fast tra...\n",
       "2            1  simply love movie. also love Ramones, sorta bi...\n",
       "3            0  Spoilers ahead want call that...I would almost...\n",
       "4            1  My all-time favorite movie! seen many movies, ..."
      ]
     },
     "execution_count": 10,
     "metadata": {},
     "output_type": "execute_result"
    }
   ],
   "source": [
    "train_prep.resub_patt('<br />') # Delete tag\n",
    "\n",
    "# clean trash\n",
    "train_prep.resub_words('apostrophe')\n",
    "train_prep.resub_words('emotion')\n",
    "train_prep.resub_words('short')\n",
    "\n",
    "train_prep.clean_by_len()\n",
    "train_prep.clean_stop_words()\n",
    "\n",
    "# view result\n",
    "train_df = train_prep.df\n",
    "train_df[:5]"
   ]
  },
  {
   "cell_type": "markdown",
   "metadata": {},
   "source": [
    "#### test"
   ]
  },
  {
   "cell_type": "code",
   "execution_count": 11,
   "metadata": {},
   "outputs": [
    {
     "data": {
      "text/html": [
       "<div>\n",
       "<style scoped>\n",
       "    .dataframe tbody tr th:only-of-type {\n",
       "        vertical-align: middle;\n",
       "    }\n",
       "\n",
       "    .dataframe tbody tr th {\n",
       "        vertical-align: top;\n",
       "    }\n",
       "\n",
       "    .dataframe thead th {\n",
       "        text-align: right;\n",
       "    }\n",
       "</style>\n",
       "<table border=\"1\" class=\"dataframe\">\n",
       "  <thead>\n",
       "    <tr style=\"text-align: right;\">\n",
       "      <th></th>\n",
       "      <th>is_positive</th>\n",
       "      <th>review</th>\n",
       "    </tr>\n",
       "  </thead>\n",
       "  <tbody>\n",
       "    <tr>\n",
       "      <th>0</th>\n",
       "      <td>0</td>\n",
       "      <td>formulaic story tired cliches. shocked horribl...</td>\n",
       "    </tr>\n",
       "    <tr>\n",
       "      <th>1</th>\n",
       "      <td>1</td>\n",
       "      <td>This entertaining touching version classic tal...</td>\n",
       "    </tr>\n",
       "    <tr>\n",
       "      <th>2</th>\n",
       "      <td>0</td>\n",
       "      <td>Corey Haim never going known one great actors ...</td>\n",
       "    </tr>\n",
       "    <tr>\n",
       "      <th>3</th>\n",
       "      <td>1</td>\n",
       "      <td>If believe given war movie make really feel wa...</td>\n",
       "    </tr>\n",
       "    <tr>\n",
       "      <th>4</th>\n",
       "      <td>1</td>\n",
       "      <td>Carla Gugino literally melts screen crime cape...</td>\n",
       "    </tr>\n",
       "  </tbody>\n",
       "</table>\n",
       "</div>"
      ],
      "text/plain": [
       "   is_positive                                             review\n",
       "0            0  formulaic story tired cliches. shocked horribl...\n",
       "1            1  This entertaining touching version classic tal...\n",
       "2            0  Corey Haim never going known one great actors ...\n",
       "3            1  If believe given war movie make really feel wa...\n",
       "4            1  Carla Gugino literally melts screen crime cape..."
      ]
     },
     "execution_count": 11,
     "metadata": {},
     "output_type": "execute_result"
    }
   ],
   "source": [
    "test_prep.resub_patt('<br />') # Delete tag\n",
    "\n",
    "# clean trash\n",
    "test_prep.resub_words('apostrophe')\n",
    "test_prep.resub_words('emotion')\n",
    "test_prep.resub_words('short')\n",
    "\n",
    "test_prep.clean_by_len()\n",
    "test_prep.clean_stop_words()\n",
    "\n",
    "# view result\n",
    "test_df = test_prep.df\n",
    "test_df[:5]"
   ]
  },
  {
   "cell_type": "markdown",
   "metadata": {},
   "source": [
    "# Learning models"
   ]
  },
  {
   "cell_type": "code",
   "execution_count": 12,
   "metadata": {},
   "outputs": [
    {
     "data": {
      "text/plain": [
       "<a list of 248 Patch objects>"
      ]
     },
     "execution_count": 12,
     "metadata": {},
     "output_type": "execute_result"
    },
    {
     "data": {
      "image/png": "[encoded data removed]",
      "text/plain": [
       "<Figure size 432x288 with 1 Axes>"
      ]
     },
     "metadata": {
      "needs_background": "light"
     },
     "output_type": "display_data"
    }
   ],
   "source": [
    "plt.hist(train_df['review'].apply(lambda text: len(text.split())), bins='auto')[2]"
   ]
  },
  {
   "cell_type": "code",
   "execution_count": 13,
   "metadata": {},
   "outputs": [
    {
     "name": "stdout",
     "output_type": "stream",
     "text": [
      "Words count 26252\n"
     ]
    }
   ],
   "source": [
    "words_counter = Counter((word for text in train_df['review'] for word in text.lower().split()))\n",
    "word2idx = {'':0, '<unk>':1}\n",
    "\n",
    "for word, count in words_counter.most_common():\n",
    "    if count < 10:\n",
    "        break\n",
    "    word2idx[word] = len(word2idx)\n",
    "\n",
    "print('Words count', len(word2idx))\n",
    "\n",
    "X_train = convert(train_df['review'], word2idx, 600)\n",
    "X_test = convert(test_df['review'], word2idx, 600)"
   ]
  },
  {
   "cell_type": "code",
   "execution_count": 14,
   "metadata": {
    "colab": {
     "base_uri": "https://localhost:8080/"
    },
    "id": "hgiU3MkVj901",
    "outputId": "179f354e-7b88-4a9f-d59c-b17858d0f2af"
   },
   "outputs": [
    {
     "name": "stdout",
     "output_type": "stream",
     "text": [
      "Test accuracy = 86.42%\n",
      "Test accuracy = 88.39%\n",
      "Test accuracy = 88.19%\n",
      "Epoch 1/3\n",
      "196/196 [==============================] - 18s 90ms/step - loss: 0.6925 - accuracy: 0.5058 - val_loss: 0.6884 - val_accuracy: 0.5149\n",
      "Epoch 2/3\n",
      "196/196 [==============================] - 18s 94ms/step - loss: 0.6867 - accuracy: 0.5140 - val_loss: 0.6871 - val_accuracy: 0.5157\n",
      "Epoch 3/3\n",
      "196/196 [==============================] - 17s 89ms/step - loss: 0.6839 - accuracy: 0.5237 - val_loss: 0.6873 - val_accuracy: 0.5155\n",
      "782/782 [==============================] - 4s 5ms/step - loss: 0.6873 - accuracy: 0.5155\n"
     ]
    },
    {
     "data": {
      "text/html": [
       "<div>\n",
       "<style scoped>\n",
       "    .dataframe tbody tr th:only-of-type {\n",
       "        vertical-align: middle;\n",
       "    }\n",
       "\n",
       "    .dataframe tbody tr th {\n",
       "        vertical-align: top;\n",
       "    }\n",
       "\n",
       "    .dataframe thead th {\n",
       "        text-align: right;\n",
       "    }\n",
       "</style>\n",
       "<table border=\"1\" class=\"dataframe\">\n",
       "  <thead>\n",
       "    <tr style=\"text-align: right;\">\n",
       "      <th></th>\n",
       "      <th>Baseline</th>\n",
       "      <th>TrashOut</th>\n",
       "    </tr>\n",
       "    <tr>\n",
       "      <th>vects</th>\n",
       "      <th></th>\n",
       "      <th></th>\n",
       "    </tr>\n",
       "  </thead>\n",
       "  <tbody>\n",
       "    <tr>\n",
       "      <th>CV</th>\n",
       "      <td>86.670000</td>\n",
       "      <td>86.420000</td>\n",
       "    </tr>\n",
       "    <tr>\n",
       "      <th>Tfidf</th>\n",
       "      <td>88.310000</td>\n",
       "      <td>88.390000</td>\n",
       "    </tr>\n",
       "    <tr>\n",
       "      <th>Tfidf_1_2</th>\n",
       "      <td>88.630000</td>\n",
       "      <td>88.190000</td>\n",
       "    </tr>\n",
       "    <tr>\n",
       "      <th>W2I</th>\n",
       "      <td>51.466638</td>\n",
       "      <td>51.549131</td>\n",
       "    </tr>\n",
       "    <tr>\n",
       "      <th>mean</th>\n",
       "      <td>78.769159</td>\n",
       "      <td>78.637283</td>\n",
       "    </tr>\n",
       "  </tbody>\n",
       "</table>\n",
       "</div>"
      ],
      "text/plain": [
       "            Baseline   TrashOut\n",
       "vects                          \n",
       "CV         86.670000  86.420000\n",
       "Tfidf      88.310000  88.390000\n",
       "Tfidf_1_2  88.630000  88.190000\n",
       "W2I        51.466638  51.549131\n",
       "mean       78.769159  78.637283"
      ]
     },
     "execution_count": 14,
     "metadata": {},
     "output_type": "execute_result"
    },
    {
     "data": {
      "image/png": "[encoded data removed]",
      "text/plain": [
       "<Figure size 720x288 with 1 Axes>"
      ]
     },
     "metadata": {
      "needs_background": "light"
     },
     "output_type": "display_data"
    }
   ],
   "source": [
    "# Logistic Regression\n",
    "for key, val in {'CV': CountVectorizer(),\n",
    "                 'Tfidf': TfidfVectorizer(), \n",
    "                 'Tfidf_1_2': TfidfVectorizer(ngram_range=(1, 2))}.items():\n",
    "\n",
    "    model = Pipeline([\n",
    "        ('vectorizer', val),\n",
    "        ('classifier', LogisticRegression())\n",
    "    ])\n",
    "    model.fit(train_df['review'], train_df['is_positive'])\n",
    "\n",
    "    eval_df.loc[key, 'TrashOut'] = eval_model(model, test_df)\n",
    "\n",
    "# tensorflow\n",
    "model = Sequential([\n",
    "    layers.Embedding(\n",
    "        input_dim=len(word2idx), \n",
    "        output_dim=64, \n",
    "        input_shape=(X_train.shape[1],)\n",
    "    ),\n",
    "    layers.MaxPooling1D(),\n",
    "    layers.Dense(units=10, activation='relu'),\n",
    "    layers.Dense(units=1, activation='sigmoid')\n",
    "])\n",
    "model.compile(\n",
    "    loss='binary_crossentropy',\n",
    "    optimizer='adam',\n",
    "    metrics=['accuracy']\n",
    ")\n",
    "model.fit(\n",
    "    X_train, train_df['is_positive'],\n",
    "    batch_size=128, epochs=EPOCHS,\n",
    "    validation_data=(X_test, test_df['is_positive'])\n",
    ")\n",
    "eval_df.loc['W2I', 'TrashOut'] = model.evaluate(X_test, test_df['is_positive'])[1] * 100\n",
    "eval_df.loc['mean', 'TrashOut'] = eval_df['TrashOut'].mean()\n",
    "\n",
    "# view results\n",
    "eval_df.plot(kind='barh', grid=True, title='Score', figsize=(10,4))\n",
    "eval_df"
   ]
  },
  {
   "cell_type": "markdown",
   "metadata": {
    "id": "WmoE1jFsISnC"
   },
   "source": [
    "### вывод:\n",
    "- после очистки токенов, точность почти не изменилась, однако немного увеличитась скорость\n",
    "\n",
    "## 2. Проверьте повысилось ли качество на стандартных подходах при лемматизации"
   ]
  },
  {
   "cell_type": "code",
   "execution_count": 15,
   "metadata": {},
   "outputs": [],
   "source": [
    "train_prep.lemmating()\n",
    "train_df = train_prep.df\n",
    "\n",
    "test_prep.lemmating()\n",
    "test_df = test_prep.df"
   ]
  },
  {
   "cell_type": "code",
   "execution_count": 16,
   "metadata": {},
   "outputs": [
    {
     "name": "stdout",
     "output_type": "stream",
     "text": [
      "Test accuracy = 86.25%\n",
      "Test accuracy = 88.16%\n",
      "Test accuracy = 88.0%\n",
      "Epoch 1/3\n",
      "196/196 [==============================] - 17s 87ms/step - loss: 0.6924 - accuracy: 0.5105 - val_loss: 0.6884 - val_accuracy: 0.5161\n",
      "Epoch 2/3\n",
      "196/196 [==============================] - 17s 86ms/step - loss: 0.6868 - accuracy: 0.5160 - val_loss: 0.6870 - val_accuracy: 0.5169\n",
      "Epoch 3/3\n",
      "196/196 [==============================] - 17s 87ms/step - loss: 0.6841 - accuracy: 0.5229 - val_loss: 0.6871 - val_accuracy: 0.5156\n",
      "782/782 [==============================] - 4s 5ms/step - loss: 0.6871 - accuracy: 0.5156\n"
     ]
    },
    {
     "data": {
      "text/html": [
       "<div>\n",
       "<style scoped>\n",
       "    .dataframe tbody tr th:only-of-type {\n",
       "        vertical-align: middle;\n",
       "    }\n",
       "\n",
       "    .dataframe tbody tr th {\n",
       "        vertical-align: top;\n",
       "    }\n",
       "\n",
       "    .dataframe thead th {\n",
       "        text-align: right;\n",
       "    }\n",
       "</style>\n",
       "<table border=\"1\" class=\"dataframe\">\n",
       "  <thead>\n",
       "    <tr style=\"text-align: right;\">\n",
       "      <th></th>\n",
       "      <th>Baseline</th>\n",
       "      <th>TrashOut</th>\n",
       "      <th>Lemmatize</th>\n",
       "    </tr>\n",
       "    <tr>\n",
       "      <th>vects</th>\n",
       "      <th></th>\n",
       "      <th></th>\n",
       "      <th></th>\n",
       "    </tr>\n",
       "  </thead>\n",
       "  <tbody>\n",
       "    <tr>\n",
       "      <th>CV</th>\n",
       "      <td>86.670000</td>\n",
       "      <td>86.420000</td>\n",
       "      <td>86.250000</td>\n",
       "    </tr>\n",
       "    <tr>\n",
       "      <th>Tfidf</th>\n",
       "      <td>88.310000</td>\n",
       "      <td>88.390000</td>\n",
       "      <td>88.160000</td>\n",
       "    </tr>\n",
       "    <tr>\n",
       "      <th>Tfidf_1_2</th>\n",
       "      <td>88.630000</td>\n",
       "      <td>88.190000</td>\n",
       "      <td>88.000000</td>\n",
       "    </tr>\n",
       "    <tr>\n",
       "      <th>W2I</th>\n",
       "      <td>51.466638</td>\n",
       "      <td>51.549131</td>\n",
       "      <td>51.562029</td>\n",
       "    </tr>\n",
       "    <tr>\n",
       "      <th>mean</th>\n",
       "      <td>78.769159</td>\n",
       "      <td>78.637283</td>\n",
       "      <td>78.493007</td>\n",
       "    </tr>\n",
       "  </tbody>\n",
       "</table>\n",
       "</div>"
      ],
      "text/plain": [
       "            Baseline   TrashOut  Lemmatize\n",
       "vects                                     \n",
       "CV         86.670000  86.420000  86.250000\n",
       "Tfidf      88.310000  88.390000  88.160000\n",
       "Tfidf_1_2  88.630000  88.190000  88.000000\n",
       "W2I        51.466638  51.549131  51.562029\n",
       "mean       78.769159  78.637283  78.493007"
      ]
     },
     "execution_count": 16,
     "metadata": {},
     "output_type": "execute_result"
    },
    {
     "data": {
      "image/png": "[encoded data removed]",
      "text/plain": [
       "<Figure size 720x288 with 1 Axes>"
      ]
     },
     "metadata": {
      "needs_background": "light"
     },
     "output_type": "display_data"
    }
   ],
   "source": [
    "# Logistic Regression\n",
    "for key, val in {'CV': CountVectorizer(),\n",
    "                 'Tfidf': TfidfVectorizer(), \n",
    "                 'Tfidf_1_2': TfidfVectorizer(ngram_range=(1, 2))}.items():\n",
    "\n",
    "    model = Pipeline([\n",
    "        ('vectorizer', val),\n",
    "        ('classifier', LogisticRegression())\n",
    "    ])\n",
    "    model.fit(train_df['review'], train_df['is_positive'])\n",
    "    \n",
    "    eval_df.loc[key, 'Lemmatize'] = eval_model(model, test_df)\n",
    "\n",
    "# tensorflow\n",
    "model = Sequential([\n",
    "    layers.Embedding(\n",
    "        input_dim=len(word2idx), \n",
    "        output_dim=64, \n",
    "        input_shape=(X_train.shape[1],)\n",
    "    ),\n",
    "    layers.MaxPooling1D(),\n",
    "    layers.Dense(units=10, activation='relu'),\n",
    "    layers.Dense(units=1, activation='sigmoid')\n",
    "])\n",
    "model.compile(\n",
    "    loss='binary_crossentropy',\n",
    "    optimizer='adam',\n",
    "    metrics=['accuracy']\n",
    ")\n",
    "model.fit(\n",
    "    X_train, train_df['is_positive'],\n",
    "    batch_size=128, epochs=EPOCHS,\n",
    "    validation_data=(X_test, test_df['is_positive'])\n",
    ")\n",
    "eval_df.loc['W2I', 'Lemmatize'] = model.evaluate(X_test, test_df['is_positive'])[1] * 100\n",
    "eval_df.loc['mean', 'Lemmatize'] = eval_df['Lemmatize'].mean()\n",
    "\n",
    "# view results\n",
    "eval_df.plot(kind='barh', grid=True, title='Score', figsize=(10,4))\n",
    "eval_df"
   ]
  },
  {
   "cell_type": "markdown",
   "metadata": {
    "id": "k9G2pzumIZTC"
   },
   "source": [
    "### вывод\n",
    "- точность модели при лематизации почти не изменилась\n",
    "\n",
    "## 3. Удалите из текстов какие-то из сущностей (не удалите а замените их тегом). Запустите классификатор."
   ]
  },
  {
   "cell_type": "code",
   "execution_count": 17,
   "metadata": {},
   "outputs": [],
   "source": [
    "for idx, text in enumerate(train_df['review']): # перебираем каждый текст в датасете\n",
    "    chunks = nltk.ne_chunk(nltk.pos_tag(nltk.word_tokenize(text)))\n",
    "    names = {' '.join(c[0] for c in chunk) for chunk in chunks if hasattr(chunk, 'label') and chunk.label() == 'PERSON'}\n",
    "    names = sorted(names, key=len, reverse=True)\n",
    "    for name in names:\n",
    "        train_df.loc[idx, 'review'] = re.sub(name, 'PERSON', text)"
   ]
  },
  {
   "cell_type": "code",
   "execution_count": 29,
   "metadata": {},
   "outputs": [],
   "source": [
    "for idx, text in enumerate(test_df['review']): # перебираем каждый текст в датасете\n",
    "    chunks = nltk.ne_chunk(nltk.pos_tag(nltk.word_tokenize(text)))\n",
    "    names = {' '.join(c[0] for c in chunk) for chunk in chunks if hasattr(chunk, 'label') and chunk.label() == 'PERSON'}\n",
    "    names = sorted(names, key=len, reverse=True)\n",
    "    for name in names:\n",
    "        try:\n",
    "            test_df.loc[idx, 'review'] = re.sub(name, 'PERSON', text)\n",
    "        except:\n",
    "            pass"
   ]
  },
  {
   "cell_type": "code",
   "execution_count": 30,
   "metadata": {},
   "outputs": [
    {
     "name": "stdout",
     "output_type": "stream",
     "text": [
      "Test accuracy = 86.52%\n",
      "Test accuracy = 88.24%\n",
      "Test accuracy = 88.0%\n",
      "Epoch 1/5\n",
      "196/196 [==============================] - 25s 125ms/step - loss: 0.6921 - accuracy: 0.5093 - val_loss: 0.6879 - val_accuracy: 0.5165\n",
      "Epoch 2/5\n",
      "196/196 [==============================] - 24s 124ms/step - loss: 0.6860 - accuracy: 0.5186 - val_loss: 0.6870 - val_accuracy: 0.5156\n",
      "Epoch 3/5\n",
      "196/196 [==============================] - 24s 122ms/step - loss: 0.6835 - accuracy: 0.5211 - val_loss: 0.6873 - val_accuracy: 0.5155\n",
      "Epoch 4/5\n",
      "196/196 [==============================] - 24s 122ms/step - loss: 0.6819 - accuracy: 0.5226 - val_loss: 0.6877 - val_accuracy: 0.5154\n",
      "Epoch 5/5\n",
      "196/196 [==============================] - 23s 120ms/step - loss: 0.6806 - accuracy: 0.5239 - val_loss: 0.6883 - val_accuracy: 0.5150\n",
      "782/782 [==============================] - 5s 7ms/step - loss: 0.6883 - accuracy: 0.5150\n"
     ]
    },
    {
     "data": {
      "text/html": [
       "<div>\n",
       "<style scoped>\n",
       "    .dataframe tbody tr th:only-of-type {\n",
       "        vertical-align: middle;\n",
       "    }\n",
       "\n",
       "    .dataframe tbody tr th {\n",
       "        vertical-align: top;\n",
       "    }\n",
       "\n",
       "    .dataframe thead th {\n",
       "        text-align: right;\n",
       "    }\n",
       "</style>\n",
       "<table border=\"1\" class=\"dataframe\">\n",
       "  <thead>\n",
       "    <tr style=\"text-align: right;\">\n",
       "      <th></th>\n",
       "      <th>Baseline</th>\n",
       "      <th>TrashOut</th>\n",
       "      <th>Lemmatize</th>\n",
       "      <th>Taging</th>\n",
       "    </tr>\n",
       "    <tr>\n",
       "      <th>vects</th>\n",
       "      <th></th>\n",
       "      <th></th>\n",
       "      <th></th>\n",
       "      <th></th>\n",
       "    </tr>\n",
       "  </thead>\n",
       "  <tbody>\n",
       "    <tr>\n",
       "      <th>CV</th>\n",
       "      <td>86.670000</td>\n",
       "      <td>86.420000</td>\n",
       "      <td>86.250000</td>\n",
       "      <td>86.520000</td>\n",
       "    </tr>\n",
       "    <tr>\n",
       "      <th>Tfidf</th>\n",
       "      <td>88.310000</td>\n",
       "      <td>88.390000</td>\n",
       "      <td>88.160000</td>\n",
       "      <td>88.240000</td>\n",
       "    </tr>\n",
       "    <tr>\n",
       "      <th>Tfidf_1_2</th>\n",
       "      <td>88.630000</td>\n",
       "      <td>88.190000</td>\n",
       "      <td>88.000000</td>\n",
       "      <td>88.000000</td>\n",
       "    </tr>\n",
       "    <tr>\n",
       "      <th>W2I</th>\n",
       "      <td>51.466638</td>\n",
       "      <td>51.549131</td>\n",
       "      <td>51.562029</td>\n",
       "      <td>51.500487</td>\n",
       "    </tr>\n",
       "    <tr>\n",
       "      <th>mean</th>\n",
       "      <td>78.769159</td>\n",
       "      <td>78.637283</td>\n",
       "      <td>78.493007</td>\n",
       "      <td>78.565122</td>\n",
       "    </tr>\n",
       "  </tbody>\n",
       "</table>\n",
       "</div>"
      ],
      "text/plain": [
       "            Baseline   TrashOut  Lemmatize     Taging\n",
       "vects                                                \n",
       "CV         86.670000  86.420000  86.250000  86.520000\n",
       "Tfidf      88.310000  88.390000  88.160000  88.240000\n",
       "Tfidf_1_2  88.630000  88.190000  88.000000  88.000000\n",
       "W2I        51.466638  51.549131  51.562029  51.500487\n",
       "mean       78.769159  78.637283  78.493007  78.565122"
      ]
     },
     "execution_count": 30,
     "metadata": {},
     "output_type": "execute_result"
    },
    {
     "data": {
      "image/png": "[encoded data removed]",
      "text/plain": [
       "<Figure size 720x288 with 1 Axes>"
      ]
     },
     "metadata": {
      "needs_background": "light"
     },
     "output_type": "display_data"
    }
   ],
   "source": [
    "# Logistic Regression\n",
    "for key, val in {'CV': CountVectorizer(),\n",
    "                 'Tfidf': TfidfVectorizer(), \n",
    "                 'Tfidf_1_2': TfidfVectorizer(ngram_range=(1, 2))}.items():\n",
    "\n",
    "    model = Pipeline([\n",
    "        ('vectorizer', val),\n",
    "        ('classifier', LogisticRegression())\n",
    "    ])\n",
    "    model.fit(train_df['review'], train_df['is_positive'])\n",
    "    \n",
    "    eval_df.loc[key, 'Taging'] = eval_model(model, test_df)\n",
    "\n",
    "# tensorflow\n",
    "model = Sequential([\n",
    "    layers.Embedding(\n",
    "        input_dim=len(word2idx), \n",
    "        output_dim=64, \n",
    "        input_shape=(X_train.shape[1],)\n",
    "    ),\n",
    "    layers.MaxPooling1D(),\n",
    "    layers.Dense(units=10, activation='relu'),\n",
    "    layers.Dense(units=1, activation='sigmoid')\n",
    "])\n",
    "model.compile(\n",
    "    loss='binary_crossentropy',\n",
    "    optimizer='adam',\n",
    "    metrics=['accuracy']\n",
    ")\n",
    "model.fit(\n",
    "    X_train, train_df['is_positive'],\n",
    "    batch_size=128, epochs=5,\n",
    "    validation_data=(X_test, test_df['is_positive'])\n",
    ")\n",
    "eval_df.loc['W2I', 'Taging'] = model.evaluate(X_test, test_df['is_positive'])[1] * 100\n",
    "eval_df.loc['mean', 'Taging'] = eval_df['Taging'].mean()\n",
    "\n",
    "# view results\n",
    "eval_df.plot(kind='barh', grid=True, title='Score', figsize=(10,4))\n",
    "eval_df"
   ]
  },
  {
   "cell_type": "markdown",
   "metadata": {
    "id": "mq4dDwFFIEaX"
   },
   "source": [
    "### вывод:\n",
    "- возможно был выбран не самый оптимальный способ перевода ущностей в тег, так как это заняло очень много времени\n",
    "- точнеость, после данной операции почти не изменилась"
   ]
  }
 ],
 "metadata": {
  "colab": {
   "collapsed_sections": [],
   "name": "prectice6.ipynb",
   "provenance": []
  },
  "kernelspec": {
   "display_name": "Python 3",
   "language": "python",
   "name": "python3"
  },
  "language_info": {
   "codemirror_mode": {
    "name": "ipython",
    "version": 3
   },
   "file_extension": ".py",
   "mimetype": "text/x-python",
   "name": "python",
   "nbconvert_exporter": "python",
   "pygments_lexer": "ipython3",
   "version": "3.7.4"
  }
 },
 "nbformat": 4,
 "nbformat_minor": 1
}
