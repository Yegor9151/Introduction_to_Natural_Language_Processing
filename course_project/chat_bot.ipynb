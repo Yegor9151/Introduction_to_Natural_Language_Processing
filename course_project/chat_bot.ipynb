{
 "cells": [
  {
   "cell_type": "markdown",
   "metadata": {},
   "source": [
    "# Libs"
   ]
  },
  {
   "cell_type": "code",
   "execution_count": 1,
   "metadata": {},
   "outputs": [],
   "source": [
    "# base\n",
    "import time\n",
    "import re\n",
    "import numpy as np\n",
    "import matplotlib.pyplot as plt\n",
    "\n",
    "# tensorflow\n",
    "import tensorflow_datasets as tfds\n",
    "\n",
    "import tensorflow as tf\n",
    "from tensorflow.keras import layers\n",
    "\n",
    "# telegram\n",
    "from telegram.ext import Updater, CommandHandler, MessageHandler, Filters"
   ]
  },
  {
   "cell_type": "markdown",
   "metadata": {},
   "source": [
    "# Loading data"
   ]
  },
  {
   "cell_type": "code",
   "execution_count": 2,
   "metadata": {},
   "outputs": [
    {
     "name": "stdout",
     "output_type": "stream",
     "text": [
      "in 70 sec.\n"
     ]
    }
   ],
   "source": [
    "from my_funcs.scr import read_file\n",
    "\n",
    "text = read_file('../data/Otvety.txt', duration=True)"
   ]
  },
  {
   "cell_type": "markdown",
   "metadata": {},
   "source": [
    "# Preprocessing data\n",
    "\n",
    "### Corpus"
   ]
  },
  {
   "cell_type": "code",
   "execution_count": 3,
   "metadata": {},
   "outputs": [],
   "source": [
    "def preprocess_text(w):\n",
    "    w = re.sub('\\n', '', w)\n",
    "    w = re.sub('---', '', w)\n",
    "    w = re.sub(':\\)', '', w)\n",
    "    w = re.sub('\\/+', '', w)\n",
    "    w = re.sub('[();\"]', '', w)\n",
    "    w = re.sub('<[^>]+>', ' ', w)\n",
    "    \n",
    "    w = re.sub('\\s*\\?\\s*\\.', '?', w)\n",
    "    w = re.sub('\\s*\\!\\s*\\.', '!', w)\n",
    "    w = re.sub('\\s*\\.', '.', w)\n",
    "    w = re.sub('\\.+', '.', w)\n",
    "    \n",
    "    return w"
   ]
  },
  {
   "cell_type": "code",
   "execution_count": 4,
   "metadata": {},
   "outputs": [
    {
     "name": "stdout",
     "output_type": "stream",
     "text": [
      "вопрос о ТДВ давно и хорошо отдыхаем ЛИЧНО ВАМ здесь кого советовали завести? хомячка. мужика, йопаря, собачку и 50 кошек. Общение! паучка. Да пол мне бы памыть! А таг то ни чо. Типа ни каво! я тут вообще что бы пообщаться. А мне советовали сиси завести. Ну, слава богу, мужика завести ещё не советовали А вот сватать к кому только не сватали. мне тут советовали завести любовника, мужа и много кошек  приветик. Как парни относятся к цветным линзам? Если у девушки то зеленые глаза, то голубые. меня вобще прикалывает эта тема. когда этобыло редкость - было забавно, а когда все знают, что эта фальшивка, то уже не прикольно, как силиконовые сиськи или как налепленные синтетические волосы. Что делать, сегодня нашёл 2 миллиона рублей? Если это счастье  действительно на вас свалилось, лучше пойти в милицию и заявить о находке. Такие деньги просто так не терют, а что самое интересное их неприменно будут искать и поверьте мне найдут, видел подобное в жизни. Можно нарваться на бабушку конечно, кото\n"
     ]
    }
   ],
   "source": [
    "NUM_EXAMPLES = 1_600_000\n",
    "corpus = preprocess_text(text[:NUM_EXAMPLES])\n",
    "print(corpus[:1000])"
   ]
  },
  {
   "cell_type": "markdown",
   "metadata": {},
   "source": [
    "### Sentenses"
   ]
  },
  {
   "cell_type": "code",
   "execution_count": 5,
   "metadata": {},
   "outputs": [],
   "source": [
    "def split_by_sentence(text):\n",
    "    sent = re.findall('[^?!.]+.', text)\n",
    "    sent = [s.strip() for s in sent]\n",
    "    return sent"
   ]
  },
  {
   "cell_type": "code",
   "execution_count": 6,
   "metadata": {},
   "outputs": [
    {
     "data": {
      "text/plain": [
       "['вопрос о ТДВ давно и хорошо отдыхаем ЛИЧНО ВАМ здесь кого советовали завести?',\n",
       " 'хомячка.',\n",
       " 'мужика, йопаря, собачку и 50 кошек.',\n",
       " 'Общение!',\n",
       " 'паучка.']"
      ]
     },
     "execution_count": 6,
     "metadata": {},
     "output_type": "execute_result"
    }
   ],
   "source": [
    "sentences = split_by_sentence(corpus)\n",
    "sentences[:5]"
   ]
  },
  {
   "cell_type": "markdown",
   "metadata": {},
   "source": [
    "### Tokenize"
   ]
  },
  {
   "cell_type": "code",
   "execution_count": 7,
   "metadata": {},
   "outputs": [
    {
     "name": "stdout",
     "output_type": "stream",
     "text": [
      "tokenizer_en loaded\n"
     ]
    }
   ],
   "source": [
    "from my_funcs.scr import split_by_subwords\n",
    "\n",
    "try:\n",
    "    tokenizer_en = tfds.deprecated.text.SubwordTextEncoder.load_from_file('tokenizer_en')\n",
    "    print('tokenizer_en loaded')\n",
    "except UnicodeDecodeError:\n",
    "    tokenizer_en = split_by_subwords(\n",
    "        corpus_generator=(sent for sent in sentences),\n",
    "        file_name='tokenizer_en')"
   ]
  },
  {
   "cell_type": "markdown",
   "metadata": {},
   "source": [
    "### Emdending tokens"
   ]
  },
  {
   "cell_type": "code",
   "execution_count": 8,
   "metadata": {},
   "outputs": [
    {
     "name": "stdout",
     "output_type": "stream",
     "text": [
      "Съешь же ещё этих мягких французских булок, да выпей чаю.\n",
      "121\t----> С\n",
      "2204\t----> ъе\n",
      "280\t----> шь \n",
      "70\t----> же \n",
      "314\t----> ещё \n",
      "2331\t----> этих \n",
      "3853\t----> мягки\n",
      "28\t----> х \n",
      "7407\t----> француз\n",
      "1156\t----> ских \n",
      "6593\t----> бул\n",
      "237\t----> ок\n",
      "1\t----> , \n",
      "154\t----> да \n",
      "1285\t----> вып\n",
      "102\t----> ей \n",
      "6752\t----> чаю\n",
      "8136\t----> .\n"
     ]
    }
   ],
   "source": [
    "pangram = 'Съешь же ещё этих мягких французских булок, да выпей чаю.'\n",
    "\n",
    "tokenized_string = tokenizer_en.encode(pangram)\n",
    "original_string = tokenizer_en.decode(tokenized_string)\n",
    "\n",
    "print(original_string)\n",
    "for ts in tokenized_string:\n",
    "    print (f'{ts}\\t----> {tokenizer_en.decode([ts])}')"
   ]
  },
  {
   "cell_type": "code",
   "execution_count": 9,
   "metadata": {},
   "outputs": [
    {
     "name": "stdout",
     "output_type": "stream",
     "text": [
      "(27864, 17)\n"
     ]
    },
    {
     "data": {
      "text/plain": [
       "array([[ 819,   20,  248, ..., 1421,  972,  548],\n",
       "       [ 556, 1164, 1658, ...,    0,    0,    0],\n",
       "       [1275,   12,    1, ..., 8136,    0,    0],\n",
       "       ...,\n",
       "       [  72, 5776, 8122, ..., 7958,  130,    1],\n",
       "       [ 209,    4, 2045, ..., 4991,  225,  494],\n",
       "       [  12,   15,  763, ...,    0,    0,    0]], dtype=int64)"
      ]
     },
     "execution_count": 9,
     "metadata": {},
     "output_type": "execute_result"
    }
   ],
   "source": [
    "MAX_LEN = 16\n",
    "\n",
    "sequence = [tokenizer_en.encode(sent) for sent in sentences]\n",
    "sequence = tf.keras.preprocessing.sequence.pad_sequences(sequence, padding='post')\n",
    "sequence = sequence[:, :MAX_LEN+1]\n",
    "sequence = sequence.astype('int64')\n",
    "sequence = sequence[sequence[:, 1] != 0]\n",
    "\n",
    "print(sequence.shape)\n",
    "sequence"
   ]
  },
  {
   "cell_type": "markdown",
   "metadata": {},
   "source": [
    "### Dataset"
   ]
  },
  {
   "cell_type": "code",
   "execution_count": 10,
   "metadata": {},
   "outputs": [],
   "source": [
    "def split_input_target(chunk):\n",
    "    return chunk, chunk[1:]\n",
    "\n",
    "def encode(tar, inp):\n",
    "    tar = [tokenizer_en.vocab_size] + list(tar.numpy()) + [tokenizer_en.vocab_size+1]\n",
    "    inp = [tokenizer_en.vocab_size] + list(inp.numpy()) + [tokenizer_en.vocab_size+1]\n",
    "    return tar, inp\n",
    "\n",
    "def tf_encode(tar, inp):\n",
    "    tar, inp = tf.py_function(func=encode, inp=[tar, inp], Tout=[tf.int64, tf.int64])\n",
    "    tar.set_shape([None])\n",
    "    inp.set_shape([None])\n",
    "    return tar, inp"
   ]
  },
  {
   "cell_type": "code",
   "execution_count": 11,
   "metadata": {
    "scrolled": true
   },
   "outputs": [
    {
     "name": "stdout",
     "output_type": "stream",
     "text": [
      "(<tf.Tensor: shape=(64, 19), dtype=int64, numpy=\n",
      "array([[8346, 6959, 8123, ...,    0,    0, 8347],\n",
      "       [8346, 7252, 1868, ...,    0,    0, 8347],\n",
      "       [8346, 2305, 4833, ...,    7, 2005, 8347],\n",
      "       ...,\n",
      "       [8346,  295, 5058, ...,    0,    0, 8347],\n",
      "       [8346,  709,   91, ..., 1514,  358, 8347],\n",
      "       [8346, 5303, 8122, ...,  318, 4108, 8347]], dtype=int64)>, <tf.Tensor: shape=(64, 18), dtype=int64, numpy=\n",
      "array([[8346, 8123,    0, ...,    0,    0, 8347],\n",
      "       [8346, 1868, 5352, ...,    0,    0, 8347],\n",
      "       [8346, 4833, 8122, ...,    7, 2005, 8347],\n",
      "       ...,\n",
      "       [8346, 5058, 8122, ...,    0,    0, 8347],\n",
      "       [8346,   91,  260, ..., 1514,  358, 8347],\n",
      "       [8346, 8122, 4648, ...,  318, 4108, 8347]], dtype=int64)>)\n",
      "in 23 sec.\n"
     ]
    }
   ],
   "source": [
    "BUFFER_SIZE = 20_000\n",
    "BATCH_SIZE = 64\n",
    "\n",
    "start = time.time()\n",
    "\n",
    "dataset = tf.data.Dataset.from_tensor_slices(sequence)\n",
    "dataset = dataset.map(split_input_target)\n",
    "dataset = dataset.map(tf_encode)\n",
    "dataset = dataset.cache()\n",
    "dataset = dataset.shuffle(BUFFER_SIZE)\n",
    "dataset = dataset.padded_batch(BATCH_SIZE)\n",
    "dataset = dataset.prefetch(tf.data.experimental.AUTOTUNE)\n",
    "\n",
    "print(next(iter(dataset)))\n",
    "print(f'in {round(time.time() - start)} sec.')"
   ]
  },
  {
   "cell_type": "code",
   "execution_count": 12,
   "metadata": {},
   "outputs": [
    {
     "name": "stdout",
     "output_type": "stream",
     "text": [
      "нЕЕЕЕТЬ, нас ппяяттеро!\n",
      "ЕЕЕЕТЬ, нас ппяяттеро!\n"
     ]
    }
   ],
   "source": [
    "for tar, inp in dataset.take(1):\n",
    "    print(tokenizer_en.decode(tar[0][1:-2]))\n",
    "    print(tokenizer_en.decode(inp[0][1:-2]))"
   ]
  },
  {
   "cell_type": "markdown",
   "metadata": {},
   "source": [
    "# Create model\n",
    "\n",
    "### Encoder & Decoder layers"
   ]
  },
  {
   "cell_type": "code",
   "execution_count": 13,
   "metadata": {},
   "outputs": [
    {
     "name": "stdout",
     "output_type": "stream",
     "text": [
      "(1, 50, 512)\n"
     ]
    },
    {
     "data": {
      "image/png": "[encoded data removed]",
      "text/plain": [
       "<Figure size 432x288 with 2 Axes>"
      ]
     },
     "metadata": {
      "needs_background": "light"
     },
     "output_type": "display_data"
    }
   ],
   "source": [
    "from my_layers.encoder_decoder import positional_encoding, point_wise_feed_forward_network, Encoder, Decoder\n",
    "\n",
    "pos_encoding = positional_encoding(50, 512)\n",
    "print (pos_encoding.shape)\n",
    "\n",
    "plt.pcolormesh(pos_encoding[0])\n",
    "plt.xlabel('Depth')\n",
    "plt.xlim((0, 512))\n",
    "plt.ylabel('Position')\n",
    "plt.colorbar()\n",
    "plt.show()"
   ]
  },
  {
   "cell_type": "markdown",
   "metadata": {},
   "source": [
    "### Transformer"
   ]
  },
  {
   "cell_type": "code",
   "execution_count": 14,
   "metadata": {},
   "outputs": [],
   "source": [
    "class Transformer(tf.keras.Model):\n",
    "    \"\"\"\n",
    "    sample_transformer = Transformer(num_layers=2, d_model=512, num_heads=8, dff=2048, \n",
    "                                     input_vocab_size=8500, target_vocab_size=8000, \n",
    "                                     pe_input=10000, pe_target=6000)\n",
    "\n",
    "    temp_input = tf.random.uniform((64, 38), dtype=tf.int64, minval=0, maxval=200)\n",
    "    temp_target = tf.random.uniform((64, 36), dtype=tf.int64, minval=0, maxval=200)\n",
    "\n",
    "    fn_out, _ = sample_transformer(temp_input, temp_target, training=False, \n",
    "                                   enc_padding_mask=None, \n",
    "                                   look_ahead_mask=None,\n",
    "                                   dec_padding_mask=None)\n",
    "\n",
    "    fn_out.shape  # (batch_size, tar_seq_len, target_vocab_size)\n",
    "    \n",
    "    out: TensorShape([64, 36, 8000])\n",
    "    \"\"\"\n",
    "    def __init__(self, num_layers, d_model, num_heads, dff, input_vocab_size, target_vocab_size, pe_input, pe_target, rate=0.1):\n",
    "        super(Transformer, self).__init__()\n",
    "        \n",
    "        self.encoder = Encoder(num_layers, d_model, num_heads, dff, input_vocab_size, pe_input, rate)\n",
    "        self.decoder = Decoder(num_layers, d_model, num_heads, dff, target_vocab_size, pe_input, rate)\n",
    "        \n",
    "        self.final_layer = layers.Dense(target_vocab_size)\n",
    "        \n",
    "    def call(self, inp, tar, training, enc_padding_mask, look_ahead_mask, dec_padding_mask):\n",
    "        enc_output = self.encoder(inp, training, enc_padding_mask)\n",
    "        dec_output, attention_weights = self.decoder(tar, enc_output, training, look_ahead_mask, dec_padding_mask)\n",
    "        final_output = self.final_layer(dec_output)\n",
    "        return final_output, attention_weights"
   ]
  },
  {
   "cell_type": "markdown",
   "metadata": {},
   "source": [
    "## Hyperparameters"
   ]
  },
  {
   "cell_type": "code",
   "execution_count": 15,
   "metadata": {},
   "outputs": [],
   "source": [
    "num_layers = 4\n",
    "d_model = 128\n",
    "dff = 512\n",
    "num_heads = 8\n",
    "\n",
    "input_vocab_size = tokenizer_en.vocab_size + 2\n",
    "target_vocab_size = tokenizer_en.vocab_size + 2\n",
    "dropout_rate = 0.1"
   ]
  },
  {
   "cell_type": "markdown",
   "metadata": {},
   "source": [
    "## Optimizer"
   ]
  },
  {
   "cell_type": "code",
   "execution_count": 16,
   "metadata": {},
   "outputs": [],
   "source": [
    "class CustomSchedule(tf.keras.optimizers.schedules.LearningRateSchedule):\n",
    "    def __init__(self, d_model, warmup_steps=4_000):\n",
    "        super(CustomSchedule, self).__init__()\n",
    "        \n",
    "        self.d_model = d_model\n",
    "        self.d_model = tf.cast(self.d_model, tf.float32)\n",
    "\n",
    "        self.warmup_steps = warmup_steps\n",
    "        \n",
    "    def __call__(self, step):\n",
    "        arg1 = tf.math.rsqrt(step)\n",
    "        arg2 = step * (self.warmup_steps ** -1.5)\n",
    "        return tf.math.rsqrt(self.d_model) * tf.math.minimum(arg1, arg2)"
   ]
  },
  {
   "cell_type": "code",
   "execution_count": 17,
   "metadata": {},
   "outputs": [],
   "source": [
    "learning_rate = CustomSchedule(d_model)\n",
    "optimizer = tf.keras.optimizers.Adam(learning_rate, beta_1=0.9, beta_2=0.98, epsilon=1e-9)"
   ]
  },
  {
   "cell_type": "code",
   "execution_count": 18,
   "metadata": {},
   "outputs": [
    {
     "data": {
      "text/plain": [
       "Text(0.5, 0, 'Train Step')"
      ]
     },
     "execution_count": 18,
     "metadata": {},
     "output_type": "execute_result"
    },
    {
     "data": {
      "image/png": "[encoded data removed]",
      "text/plain": [
       "<Figure size 432x288 with 1 Axes>"
      ]
     },
     "metadata": {
      "needs_background": "light"
     },
     "output_type": "display_data"
    }
   ],
   "source": [
    "temp_learning_rate_schedule = CustomSchedule(d_model)\n",
    "\n",
    "plt.plot(temp_learning_rate_schedule(tf.range(40000, dtype=tf.float32)))\n",
    "plt.ylabel(\"Learning Rate\")\n",
    "plt.xlabel(\"Train Step\")"
   ]
  },
  {
   "cell_type": "markdown",
   "metadata": {},
   "source": [
    "## Loss and metrics"
   ]
  },
  {
   "cell_type": "code",
   "execution_count": 19,
   "metadata": {},
   "outputs": [],
   "source": [
    "train_loss = tf.keras.metrics.Mean(name='train_loss')\n",
    "train_accuracy = tf.keras.metrics.Mean(name='train_accuracy')"
   ]
  },
  {
   "cell_type": "code",
   "execution_count": 20,
   "metadata": {},
   "outputs": [],
   "source": [
    "def loss_function(real, pred):\n",
    "    loss_object = tf.keras.losses.SparseCategoricalCrossentropy(from_logits=True, reduction='none')\n",
    "    loss = loss_object(real, pred)\n",
    "    \n",
    "    mask = tf.math.logical_not(tf.math.equal(real, 0))\n",
    "    mask = tf.cast(mask, dtype=loss.dtype)\n",
    "    \n",
    "    loss *= mask\n",
    "    loss = tf.reduce_sum(loss) / tf.reduce_sum(mask)\n",
    "    return loss\n",
    "\n",
    "def accuracy_function(real, pred):\n",
    "    acc = tf.equal(real, tf.argmax(pred, axis=2))\n",
    "    mask = tf.math.logical_not(tf.math.equal(real, 0))\n",
    "    \n",
    "    acc = tf.math.logical_and(mask, acc)\n",
    "    acc = tf.cast(acc, dtype=tf.float32)\n",
    "    mask = tf.cast(mask, dtype=tf.float32)\n",
    "    \n",
    "    acc = tf.reduce_sum(acc) / tf.reduce_sum(mask)\n",
    "    return acc"
   ]
  },
  {
   "cell_type": "markdown",
   "metadata": {},
   "source": [
    "## Model init"
   ]
  },
  {
   "cell_type": "code",
   "execution_count": 21,
   "metadata": {},
   "outputs": [],
   "source": [
    "transformer = Transformer(\n",
    "    num_layers, d_model, num_heads, dff,\n",
    "    input_vocab_size, target_vocab_size, \n",
    "    pe_input=input_vocab_size,\n",
    "    pe_target=target_vocab_size,\n",
    "    rate=dropout_rate\n",
    ")"
   ]
  },
  {
   "cell_type": "markdown",
   "metadata": {},
   "source": [
    "## Checkpointing"
   ]
  },
  {
   "cell_type": "code",
   "execution_count": 22,
   "metadata": {},
   "outputs": [
    {
     "name": "stdout",
     "output_type": "stream",
     "text": [
      "Latest checkpoint restored!!\n"
     ]
    }
   ],
   "source": [
    "checkpoint_path = \"./checkpoints/train\"\n",
    "\n",
    "ckpt = tf.train.Checkpoint(\n",
    "    transformer=transformer,\n",
    "    optimizer=optimizer\n",
    ")\n",
    "ckpt_manager = tf.train.CheckpointManager(ckpt, checkpoint_path, max_to_keep=5)\n",
    "\n",
    "if ckpt_manager.latest_checkpoint:\n",
    "    ckpt.restore(ckpt_manager.latest_checkpoint)\n",
    "    print ('Latest checkpoint restored!!')"
   ]
  },
  {
   "cell_type": "markdown",
   "metadata": {},
   "source": [
    "## Training"
   ]
  },
  {
   "cell_type": "code",
   "execution_count": 23,
   "metadata": {},
   "outputs": [],
   "source": [
    "from my_funcs.masking import create_masks\n",
    "\n",
    "def train_step(inp, tar):\n",
    "    tar_inp = tar[:, :-1]\n",
    "    tar_real = tar[:, 1:]\n",
    "    \n",
    "    enc_padding_mask, combine_mask, dec_padding_mask = create_masks(inp, tar_inp)\n",
    "\n",
    "    with tf.GradientTape() as tape:\n",
    "        pred, _ = transformer(\n",
    "            inp, tar_inp, True,\n",
    "            enc_padding_mask,\n",
    "            combine_mask,\n",
    "            dec_padding_mask\n",
    "        )\n",
    "        loss = loss_function(tar_real, pred)\n",
    "        \n",
    "    grad = tape.gradient(loss, transformer.trainable_variables)\n",
    "    optimizer.apply_gradients(zip(grad, transformer.trainable_variables))\n",
    "    \n",
    "    train_loss(loss)\n",
    "    train_accuracy(accuracy_function(tar_real, pred))"
   ]
  },
  {
   "cell_type": "code",
   "execution_count": 24,
   "metadata": {},
   "outputs": [
    {
     "name": "stdout",
     "output_type": "stream",
     "text": [
      "Epoch 1 Loss 0.2932 Accuracy 0.9433\n",
      "Time taken for 1 epoch: 165 secs\n",
      "Saving checkpoint for epoch 1\n",
      "\n"
     ]
    }
   ],
   "source": [
    "EPOCHS = 1\n",
    "training = True\n",
    "\n",
    "if training:\n",
    "    for epoch in range(EPOCHS):\n",
    "        start = time.time()\n",
    "\n",
    "        train_loss.reset_states()\n",
    "        train_accuracy.reset_states()\n",
    "\n",
    "        for batch, (tar, inp) in enumerate(dataset):\n",
    "            train_step(inp, tar)\n",
    "        \n",
    "        print (f'Epoch {epoch + 1} Loss {train_loss.result():.4f} Accuracy {train_accuracy.result():.4f}')\n",
    "        print (f'Time taken for 1 epoch: {round(time.time() - start)} secs')\n",
    "        ckpt_manager.save()\n",
    "        print (f'Saving checkpoint for epoch {epoch+1}\\n')"
   ]
  },
  {
   "cell_type": "markdown",
   "metadata": {},
   "source": [
    "## Eval"
   ]
  },
  {
   "cell_type": "code",
   "execution_count": 25,
   "metadata": {},
   "outputs": [],
   "source": [
    "def evaluate(inp_sentence):\n",
    "    start_token = [tokenizer_en.vocab_size]\n",
    "    end_token = [tokenizer_en.vocab_size + 1]\n",
    "    \n",
    "    inp_sentence = start_token + tokenizer_en.encode(inp_sentence) + end_token\n",
    "    encoder_input = tf.expand_dims(inp_sentence, 0)\n",
    "\n",
    "    decoder_input = [tokenizer_en.vocab_size]\n",
    "    output = tf.expand_dims(decoder_input, 0)\n",
    "\n",
    "    for i in range(MAX_LEN):\n",
    "        enc_padding_mask, combined_mask, dec_padding_mask = create_masks(encoder_input, output)\n",
    "\n",
    "        predictions, attention_weights = transformer(\n",
    "            encoder_input, output, False,\n",
    "            enc_padding_mask, combined_mask, dec_padding_mask\n",
    "        )\n",
    "        predictions = predictions[:, -1:, :]\n",
    "        predicted_id = tf.cast(tf.argmax(predictions, axis=-1), tf.int32)\n",
    "\n",
    "        if predicted_id == tokenizer_en.vocab_size+1:\n",
    "            return tf.squeeze(output, axis=0), attention_weights\n",
    "\n",
    "        output = tf.concat([output, predicted_id], axis=-1)\n",
    "\n",
    "    return tf.squeeze(output, axis=0), attention_weights"
   ]
  },
  {
   "cell_type": "code",
   "execution_count": 26,
   "metadata": {},
   "outputs": [],
   "source": [
    "def text_generator(sentence):\n",
    "    result, attention_weights = evaluate(sentence)\n",
    "    predicted_sentence = tokenizer_en.decode([i for i in result if i < tokenizer_en.vocab_size - 1])\n",
    "    \n",
    "    print(f'Input: {sentence}')\n",
    "    print(f'Predicted message: {predicted_sentence}')\n",
    "    return predicted_sentence"
   ]
  },
  {
   "cell_type": "code",
   "execution_count": 27,
   "metadata": {},
   "outputs": [
    {
     "name": "stdout",
     "output_type": "stream",
     "text": [
      "Input: Привет\n",
      "Predicted message: — Приветnn.\n"
     ]
    },
    {
     "data": {
      "text/plain": [
       "'— Приветnn.'"
      ]
     },
     "execution_count": 27,
     "metadata": {},
     "output_type": "execute_result"
    }
   ],
   "source": [
    "text_generator('Привет')"
   ]
  },
  {
   "cell_type": "markdown",
   "metadata": {},
   "source": [
    "# Connection"
   ]
  },
  {
   "cell_type": "code",
   "execution_count": 28,
   "metadata": {},
   "outputs": [],
   "source": [
    "updater = Updater(token=read_file('./token.txt'))\n",
    "dispatcher = updater.dispatcher"
   ]
  },
  {
   "cell_type": "markdown",
   "metadata": {},
   "source": [
    "# Command processing"
   ]
  },
  {
   "cell_type": "code",
   "execution_count": 29,
   "metadata": {},
   "outputs": [],
   "source": [
    "def answer(update, context):\n",
    "    context.bot.send_message(chat_id=update.effective_chat.id, text=text_generator(update.message.text))"
   ]
  },
  {
   "cell_type": "code",
   "execution_count": 30,
   "metadata": {},
   "outputs": [],
   "source": [
    "answer_handler = MessageHandler(Filters.text, answer)\n",
    "dispatcher.add_handler(answer_handler)"
   ]
  },
  {
   "cell_type": "code",
   "execution_count": 31,
   "metadata": {},
   "outputs": [
    {
     "name": "stdout",
     "output_type": "stream",
     "text": [
      "Bot \"40in\" is on\n"
     ]
    }
   ],
   "source": [
    "chat = True\n",
    "\n",
    "if chat:\n",
    "    updater.start_polling()\n",
    "    print(\"Bot \\\"40in\\\" is on\")\n",
    "else:\n",
    "    updater.stop()\n",
    "    print(\"Bot \\\"40in\\\" is off\")"
   ]
  },
  {
   "cell_type": "markdown",
   "metadata": {},
   "source": [
    "# Sources:\n",
    "- https://github.com/python-telegram-bot/python-telegram-bot/wiki/Extensions-%E2%80%93-Your-first-Bot"
   ]
  }
 ],
 "metadata": {
  "kernelspec": {
   "display_name": "Python 3",
   "language": "python",
   "name": "python3"
  },
  "language_info": {
   "codemirror_mode": {
    "name": "ipython",
    "version": 3
   },
   "file_extension": ".py",
   "mimetype": "text/x-python",
   "name": "python",
   "nbconvert_exporter": "python",
   "pygments_lexer": "ipython3",
   "version": "3.7.4"
  }
 },
 "nbformat": 4,
 "nbformat_minor": 2
}
