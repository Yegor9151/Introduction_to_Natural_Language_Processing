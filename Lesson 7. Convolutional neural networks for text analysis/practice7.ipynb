{
 "cells": [
  {
   "cell_type": "markdown",
   "metadata": {},
   "source": [
    "## Задание из 2-х частей.\n",
    "\n",
    "# Берем отызывы за лето (из архива с материалами или предыдущего занятия)\n",
    "\n",
    "## Lids"
   ]
  },
  {
   "cell_type": "code",
   "execution_count": 1,
   "metadata": {},
   "outputs": [],
   "source": [
    "import pandas as pd\n",
    "import numpy as np\n",
    "import matplotlib.pyplot as plt\n",
    "\n",
    "import re\n",
    "from string import punctuation\n",
    "from stop_words import get_stop_words\n",
    "from pymorphy2 import MorphAnalyzer\n",
    "\n",
    "import nltk\n",
    "from nltk.tokenize import word_tokenize\n",
    "from nltk.probability import FreqDist\n",
    "\n",
    "from sklearn.model_selection import train_test_split\n",
    "\n",
    "import tensorflow as tf\n",
    "from tensorflow.keras import layers\n",
    "from tensorflow.keras import utils\n",
    "from tensorflow.keras import models\n",
    "from tensorflow.keras import callbacks\n",
    "\n",
    "from IPython import display"
   ]
  },
  {
   "cell_type": "markdown",
   "metadata": {},
   "source": [
    "## Load and view"
   ]
  },
  {
   "cell_type": "code",
   "execution_count": 2,
   "metadata": {},
   "outputs": [
    {
     "data": {
      "text/html": [
       "<div>\n",
       "<style scoped>\n",
       "    .dataframe tbody tr th:only-of-type {\n",
       "        vertical-align: middle;\n",
       "    }\n",
       "\n",
       "    .dataframe tbody tr th {\n",
       "        vertical-align: top;\n",
       "    }\n",
       "\n",
       "    .dataframe thead th {\n",
       "        text-align: right;\n",
       "    }\n",
       "</style>\n",
       "<table border=\"1\" class=\"dataframe\">\n",
       "  <thead>\n",
       "    <tr style=\"text-align: right;\">\n",
       "      <th></th>\n",
       "      <th>Rating</th>\n",
       "      <th>Content</th>\n",
       "      <th>Date</th>\n",
       "    </tr>\n",
       "  </thead>\n",
       "  <tbody>\n",
       "    <tr>\n",
       "      <th>0</th>\n",
       "      <td>5</td>\n",
       "      <td>It just works!</td>\n",
       "      <td>2017-08-14</td>\n",
       "    </tr>\n",
       "    <tr>\n",
       "      <th>1</th>\n",
       "      <td>4</td>\n",
       "      <td>В целом удобноное приложение...из минусов хотя...</td>\n",
       "      <td>2017-08-14</td>\n",
       "    </tr>\n",
       "    <tr>\n",
       "      <th>2</th>\n",
       "      <td>5</td>\n",
       "      <td>Отлично все</td>\n",
       "      <td>2017-08-14</td>\n",
       "    </tr>\n",
       "    <tr>\n",
       "      <th>3</th>\n",
       "      <td>5</td>\n",
       "      <td>Стал зависать на 1% работы антивируса. Дальше ...</td>\n",
       "      <td>2017-08-14</td>\n",
       "    </tr>\n",
       "    <tr>\n",
       "      <th>4</th>\n",
       "      <td>5</td>\n",
       "      <td>Очень удобно, работает быстро.</td>\n",
       "      <td>2017-08-14</td>\n",
       "    </tr>\n",
       "  </tbody>\n",
       "</table>\n",
       "</div>"
      ],
      "text/plain": [
       "   Rating                                            Content        Date\n",
       "0       5                                     It just works!  2017-08-14\n",
       "1       4  В целом удобноное приложение...из минусов хотя...  2017-08-14\n",
       "2       5                                        Отлично все  2017-08-14\n",
       "3       5  Стал зависать на 1% работы антивируса. Дальше ...  2017-08-14\n",
       "4       5                     Очень удобно, работает быстро.  2017-08-14"
      ]
     },
     "execution_count": 2,
     "metadata": {},
     "output_type": "execute_result"
    }
   ],
   "source": [
    "df = pd.read_excel('../data/отзывы за лето.xls')\n",
    "df.head()"
   ]
  },
  {
   "cell_type": "code",
   "execution_count": 3,
   "metadata": {},
   "outputs": [
    {
     "name": "stdout",
     "output_type": "stream",
     "text": [
      "<class 'pandas.core.frame.DataFrame'>\n",
      "RangeIndex: 20659 entries, 0 to 20658\n",
      "Data columns (total 3 columns):\n",
      " #   Column   Non-Null Count  Dtype \n",
      "---  ------   --------------  ----- \n",
      " 0   Rating   20659 non-null  int64 \n",
      " 1   Content  20656 non-null  object\n",
      " 2   Date     20659 non-null  object\n",
      "dtypes: int64(1), object(2)\n",
      "memory usage: 484.3+ KB\n"
     ]
    }
   ],
   "source": [
    "df.info()"
   ]
  },
  {
   "cell_type": "code",
   "execution_count": 4,
   "metadata": {},
   "outputs": [
    {
     "data": {
      "text/html": [
       "<div>\n",
       "<style scoped>\n",
       "    .dataframe tbody tr th:only-of-type {\n",
       "        vertical-align: middle;\n",
       "    }\n",
       "\n",
       "    .dataframe tbody tr th {\n",
       "        vertical-align: top;\n",
       "    }\n",
       "\n",
       "    .dataframe thead th {\n",
       "        text-align: right;\n",
       "    }\n",
       "</style>\n",
       "<table border=\"1\" class=\"dataframe\">\n",
       "  <thead>\n",
       "    <tr style=\"text-align: right;\">\n",
       "      <th></th>\n",
       "      <th>Rating</th>\n",
       "    </tr>\n",
       "  </thead>\n",
       "  <tbody>\n",
       "    <tr>\n",
       "      <th>count</th>\n",
       "      <td>20659.000000</td>\n",
       "    </tr>\n",
       "    <tr>\n",
       "      <th>mean</th>\n",
       "      <td>4.259015</td>\n",
       "    </tr>\n",
       "    <tr>\n",
       "      <th>std</th>\n",
       "      <td>1.348884</td>\n",
       "    </tr>\n",
       "    <tr>\n",
       "      <th>min</th>\n",
       "      <td>1.000000</td>\n",
       "    </tr>\n",
       "    <tr>\n",
       "      <th>25%</th>\n",
       "      <td>4.000000</td>\n",
       "    </tr>\n",
       "    <tr>\n",
       "      <th>50%</th>\n",
       "      <td>5.000000</td>\n",
       "    </tr>\n",
       "    <tr>\n",
       "      <th>75%</th>\n",
       "      <td>5.000000</td>\n",
       "    </tr>\n",
       "    <tr>\n",
       "      <th>max</th>\n",
       "      <td>5.000000</td>\n",
       "    </tr>\n",
       "  </tbody>\n",
       "</table>\n",
       "</div>"
      ],
      "text/plain": [
       "             Rating\n",
       "count  20659.000000\n",
       "mean       4.259015\n",
       "std        1.348884\n",
       "min        1.000000\n",
       "25%        4.000000\n",
       "50%        5.000000\n",
       "75%        5.000000\n",
       "max        5.000000"
      ]
     },
     "execution_count": 4,
     "metadata": {},
     "output_type": "execute_result"
    }
   ],
   "source": [
    "df.describe()"
   ]
  },
  {
   "cell_type": "markdown",
   "metadata": {},
   "source": [
    "## Base vars"
   ]
  },
  {
   "cell_type": "code",
   "execution_count": 5,
   "metadata": {},
   "outputs": [],
   "source": [
    "MAX_WORDS = 200\n",
    "MAX_LEN = 0\n",
    "NUM_CLASSES = 5\n",
    "\n",
    "# Train vars\n",
    "EPOCHS = 10\n",
    "BATCH_SIZE = 64\n",
    "PRINT_BATCH_N = 100"
   ]
  },
  {
   "cell_type": "markdown",
   "metadata": {},
   "source": [
    "## Preprocessing\n",
    "#### X_train"
   ]
  },
  {
   "cell_type": "code",
   "execution_count": 6,
   "metadata": {},
   "outputs": [],
   "source": [
    "sw = set(get_stop_words('ru'))\n",
    "exclude = set(punctuation)\n",
    "morpher = MorphAnalyzer()"
   ]
  },
  {
   "cell_type": "code",
   "execution_count": 7,
   "metadata": {},
   "outputs": [],
   "source": [
    "def preprocess_text(txt):\n",
    "    txt = str(txt)\n",
    "    txt = ''.join(c for c in txt if c not in exclude)\n",
    "    txt = txt.lower()\n",
    "    txt = [morpher.parse(word)[0].normal_form for word in txt.split() if word not in sw]\n",
    "    txt = \" \".join(txt)\n",
    "    return txt"
   ]
  },
  {
   "cell_type": "code",
   "execution_count": 8,
   "metadata": {},
   "outputs": [
    {
     "data": {
      "text/html": [
       "<div>\n",
       "<style scoped>\n",
       "    .dataframe tbody tr th:only-of-type {\n",
       "        vertical-align: middle;\n",
       "    }\n",
       "\n",
       "    .dataframe tbody tr th {\n",
       "        vertical-align: top;\n",
       "    }\n",
       "\n",
       "    .dataframe thead th {\n",
       "        text-align: right;\n",
       "    }\n",
       "</style>\n",
       "<table border=\"1\" class=\"dataframe\">\n",
       "  <thead>\n",
       "    <tr style=\"text-align: right;\">\n",
       "      <th></th>\n",
       "      <th>Rating</th>\n",
       "      <th>Content</th>\n",
       "      <th>Date</th>\n",
       "    </tr>\n",
       "  </thead>\n",
       "  <tbody>\n",
       "    <tr>\n",
       "      <th>0</th>\n",
       "      <td>5</td>\n",
       "      <td>it just works</td>\n",
       "      <td>2017-08-14</td>\n",
       "    </tr>\n",
       "    <tr>\n",
       "      <th>1</th>\n",
       "      <td>4</td>\n",
       "      <td>целое удобноной приложениеиз минус хотеть боль...</td>\n",
       "      <td>2017-08-14</td>\n",
       "    </tr>\n",
       "    <tr>\n",
       "      <th>2</th>\n",
       "      <td>5</td>\n",
       "      <td>отлично</td>\n",
       "      <td>2017-08-14</td>\n",
       "    </tr>\n",
       "    <tr>\n",
       "      <th>3</th>\n",
       "      <td>5</td>\n",
       "      <td>зависать 1 работа антивирус ранее пользоваться...</td>\n",
       "      <td>2017-08-14</td>\n",
       "    </tr>\n",
       "    <tr>\n",
       "      <th>4</th>\n",
       "      <td>5</td>\n",
       "      <td>удобно работать быстро</td>\n",
       "      <td>2017-08-14</td>\n",
       "    </tr>\n",
       "  </tbody>\n",
       "</table>\n",
       "</div>"
      ],
      "text/plain": [
       "   Rating                                            Content        Date\n",
       "0       5                                      it just works  2017-08-14\n",
       "1       4  целое удобноной приложениеиз минус хотеть боль...  2017-08-14\n",
       "2       5                                            отлично  2017-08-14\n",
       "3       5  зависать 1 работа антивирус ранее пользоваться...  2017-08-14\n",
       "4       5                             удобно работать быстро  2017-08-14"
      ]
     },
     "execution_count": 8,
     "metadata": {},
     "output_type": "execute_result"
    }
   ],
   "source": [
    "df['Content'] = df['Content'].apply(preprocess_text)\n",
    "df.head()"
   ]
  },
  {
   "cell_type": "code",
   "execution_count": 9,
   "metadata": {},
   "outputs": [
    {
     "name": "stdout",
     "output_type": "stream",
     "text": [
      "MAX: 132\n",
      "QUANTILE_75: 55\n",
      "MEAN: 40\n",
      "MEDIAN: 36\n",
      "QUANTILE_25: 18\n",
      "MIN: 0\n"
     ]
    }
   ],
   "source": [
    "unique_count_words = np.unique(np.array([len(word_tokenize(text)) for text in df['Content']]))\n",
    "\n",
    "MAX_LEN = unique_count_words.max()\n",
    "Q25_LEN = round(np.quantile(unique_count_words, 0.25))\n",
    "MEAN_LEN = round(unique_count_words.mean())\n",
    "MEDIAN_LEN = round(np.median(unique_count_words))\n",
    "Q75_LEN = round(np.quantile(unique_count_words, 0.75))\n",
    "MIN_LEN = unique_count_words.min()\n",
    "\n",
    "print(f'MAX: {MAX_LEN}' \\\n",
    "      f'\\nQUANTILE_75: {Q75_LEN}' \\\n",
    "      f'\\nMEAN: {MEAN_LEN}' \\\n",
    "      f'\\nMEDIAN: {MEDIAN_LEN}' \\\n",
    "      f'\\nQUANTILE_25: {Q25_LEN}' \\\n",
    "      f'\\nMIN: {MIN_LEN}')"
   ]
  },
  {
   "cell_type": "code",
   "execution_count": 10,
   "metadata": {},
   "outputs": [],
   "source": [
    "X_train, X_test, y_train, y_test = train_test_split(df['Content'], df['Rating'], test_size=0.3, shuffle=True)"
   ]
  },
  {
   "cell_type": "code",
   "execution_count": 11,
   "metadata": {},
   "outputs": [
    {
     "data": {
      "text/plain": [
       "'нравиться 😀😀😀 удобно super ужасный приложение стоить официальный прошивка root приложение настаивать'"
      ]
     },
     "execution_count": 11,
     "metadata": {},
     "output_type": "execute_result"
    }
   ],
   "source": [
    "train_corpus = \" \".join(X_train)\n",
    "train_corpus = train_corpus.lower()\n",
    "train_corpus[:100]"
   ]
  },
  {
   "cell_type": "code",
   "execution_count": 12,
   "metadata": {},
   "outputs": [
    {
     "name": "stdout",
     "output_type": "stream",
     "text": [
      "70703\n",
      "['нравиться', '😀😀😀', 'удобно', 'super', 'ужасный']\n"
     ]
    }
   ],
   "source": [
    "tokens = word_tokenize(train_corpus)\n",
    "\n",
    "print(len(tokens))\n",
    "print(tokens[:5])"
   ]
  },
  {
   "cell_type": "code",
   "execution_count": 13,
   "metadata": {},
   "outputs": [
    {
     "name": "stdout",
     "output_type": "stream",
     "text": [
      "70227\n",
      "['нравиться', 'удобно', 'super', 'ужасный', 'приложение']\n"
     ]
    }
   ],
   "source": [
    "tokens_filtered = [word for word in tokens if word.isalnum()]\n",
    "\n",
    "print(len(tokens_filtered))\n",
    "print(tokens_filtered[:5])"
   ]
  },
  {
   "cell_type": "code",
   "execution_count": 14,
   "metadata": {},
   "outputs": [
    {
     "data": {
      "text/plain": [
       "['приложение', 'удобно', 'работать', 'удобный', 'отлично']"
      ]
     },
     "execution_count": 14,
     "metadata": {},
     "output_type": "execute_result"
    }
   ],
   "source": [
    "dist = FreqDist(tokens_filtered)\n",
    "token_filtered_top = [pair[0] for pair in dist.most_common(MAX_WORDS-1)]\n",
    "token_filtered_top[:5]"
   ]
  },
  {
   "cell_type": "code",
   "execution_count": 15,
   "metadata": {},
   "outputs": [],
   "source": [
    "vocabulary = {v: k for k, v in dict(enumerate(token_filtered_top, 1)).items()}"
   ]
  },
  {
   "cell_type": "code",
   "execution_count": 16,
   "metadata": {},
   "outputs": [],
   "source": [
    "def text_to_sequence(text, maxlen):\n",
    "    result = []\n",
    "    tokens = word_tokenize(text.lower())\n",
    "    tokens_filtered = [word for word in tokens if word.isalnum()]\n",
    "    for word in tokens_filtered:\n",
    "        if word in vocabulary:\n",
    "            result.append(vocabulary[word])\n",
    "    padding = [0]*(maxlen-len(result))\n",
    "    padding = padding + result[-maxlen:]\n",
    "    return padding"
   ]
  },
  {
   "cell_type": "code",
   "execution_count": 17,
   "metadata": {},
   "outputs": [
    {
     "name": "stdout",
     "output_type": "stream",
     "text": [
      "[[  0   0   0 ...   0   0   6]\n",
      " [  0   0   0 ...   0   0   0]\n",
      " [  0   0   0 ...   0   0   2]\n",
      " ...\n",
      " [  0   0   0 ...   0 184  19]\n",
      " [  0   0   0 ...   0   0   5]\n",
      " [  0   0   0 ...   2  14  18]]\n",
      "(14461, 132)\n",
      "[[  0   0   0 ...   0   0   2]\n",
      " [  0   0   0 ...   0   0  10]\n",
      " [  0   0   0 ...   0   0   6]\n",
      " ...\n",
      " [  0   0   0 ...   1  16  69]\n",
      " [  0   0   0 ...   0   0  63]\n",
      " [  0   0   0 ... 127  27  22]]\n",
      "(6198, 132)\n"
     ]
    }
   ],
   "source": [
    "X_train_bow = np.asarray([text_to_sequence(text, MAX_LEN) for text in X_train], dtype=np.int32)\n",
    "X_test_bow = np.asarray([text_to_sequence(text, MAX_LEN) for text in X_test], dtype=np.int32)\n",
    "\n",
    "print(X_train_bow)\n",
    "print(X_train_bow.shape)\n",
    "\n",
    "print(X_test_bow)\n",
    "print(X_test_bow.shape)"
   ]
  },
  {
   "cell_type": "markdown",
   "metadata": {},
   "source": [
    "#### y_train"
   ]
  },
  {
   "cell_type": "code",
   "execution_count": 18,
   "metadata": {},
   "outputs": [
    {
     "name": "stdout",
     "output_type": "stream",
     "text": [
      "[[0. 0. 0. 0. 0. 1.]\n",
      " [0. 0. 0. 0. 1. 0.]\n",
      " [0. 0. 0. 0. 0. 1.]\n",
      " [0. 0. 0. 0. 0. 1.]\n",
      " [0. 1. 0. 0. 0. 0.]]\n",
      "(14461, 6)\n",
      "[[0. 0. 0. 0. 0. 1.]\n",
      " [0. 0. 0. 0. 0. 1.]\n",
      " [0. 0. 0. 0. 0. 1.]\n",
      " [0. 0. 0. 0. 0. 1.]\n",
      " [0. 0. 0. 0. 0. 1.]]\n",
      "(6198, 6)\n"
     ]
    }
   ],
   "source": [
    "y_train_cat = utils.to_categorical(y_train, num_classes=NUM_CLASSES+1)\n",
    "y_test_cat = utils.to_categorical(y_test, num_classes=NUM_CLASSES+1)\n",
    "\n",
    "print(y_train_cat[:5])\n",
    "print(y_train_cat.shape)\n",
    "\n",
    "print(y_test_cat[:5])\n",
    "print(y_test_cat.shape)"
   ]
  },
  {
   "cell_type": "markdown",
   "metadata": {},
   "source": [
    "## 1. Учим conv сеть для классификации"
   ]
  },
  {
   "cell_type": "code",
   "execution_count": 19,
   "metadata": {},
   "outputs": [],
   "source": [
    "model = models.Sequential([\n",
    "    layers.Embedding(input_dim=MAX_WORDS, output_dim=128, input_length=MAX_LEN),\n",
    "    layers.Conv1D(filters=128, kernel_size=3),\n",
    "    layers.Activation('relu'),\n",
    "    \n",
    "    layers.GlobalMaxPool1D(),\n",
    "    layers.Dense(10),\n",
    "    layers.Activation('relu'),\n",
    "    \n",
    "    layers.Dense(NUM_CLASSES+1),\n",
    "    layers.Activation('softmax')\n",
    "])\n",
    "\n",
    "model.compile(\n",
    "    loss='categorical_crossentropy',\n",
    "    optimizer='adam',\n",
    "    metrics=['accuracy']\n",
    ")"
   ]
  },
  {
   "cell_type": "code",
   "execution_count": 20,
   "metadata": {},
   "outputs": [
    {
     "name": "stdout",
     "output_type": "stream",
     "text": [
      "Epoch 1/10\n",
      "204/204 [==============================] - 9s 40ms/step - loss: 1.0365 - accuracy: 0.7027 - val_loss: 0.7040 - val_accuracy: 0.7491\n",
      "Epoch 2/10\n",
      "204/204 [==============================] - 8s 37ms/step - loss: 0.6571 - accuracy: 0.7734 - val_loss: 0.6892 - val_accuracy: 0.7505\n",
      "Epoch 3/10\n",
      "204/204 [==============================] - 7s 36ms/step - loss: 0.6438 - accuracy: 0.7781 - val_loss: 0.6713 - val_accuracy: 0.7567\n",
      "Epoch 4/10\n",
      "204/204 [==============================] - 7s 36ms/step - loss: 0.6365 - accuracy: 0.7793 - val_loss: 0.6761 - val_accuracy: 0.7567\n",
      "97/97 [==============================] - 1s 10ms/step - loss: 0.6592 - accuracy: 0.7741\n",
      "Test score: 0.659171998500824\n",
      "Test accuracy: 0.7741206884384155\n"
     ]
    }
   ],
   "source": [
    "tensorboard = callbacks.TensorBoard(log_dir='./logs', write_graph=True, write_images=True)\n",
    "early_stopping = callbacks.EarlyStopping(monitor='val_loss')\n",
    "\n",
    "history = model.fit(\n",
    "    X_train_bow, y_train_cat, \n",
    "    batch_size=BATCH_SIZE,\n",
    "    epochs=EPOCHS,\n",
    "    verbose=1,\n",
    "    validation_split=0.1,\n",
    "    callbacks=[tensorboard, early_stopping]\n",
    ")\n",
    "\n",
    "score = model.evaluate(X_test_bow, y_test_cat, batch_size=BATCH_SIZE, verbose=1)\n",
    "\n",
    "print('Test score:', score[0])\n",
    "print('Test accuracy:', score[1])"
   ]
  },
  {
   "cell_type": "code",
   "execution_count": 21,
   "metadata": {},
   "outputs": [
    {
     "data": {
      "text/plain": [
       "<matplotlib.axes._subplots.AxesSubplot at 0x2c006ceb748>"
      ]
     },
     "execution_count": 21,
     "metadata": {},
     "output_type": "execute_result"
    },
    {
     "data": {
      "image/png": "[encoded data removed]",
      "text/plain": [
       "<Figure size 432x288 with 1 Axes>"
      ]
     },
     "metadata": {
      "needs_background": "light"
     },
     "output_type": "display_data"
    }
   ],
   "source": [
    "pd.DataFrame(history.history).plot()"
   ]
  },
  {
   "cell_type": "code",
   "execution_count": 22,
   "metadata": {},
   "outputs": [
    {
     "name": "stdout",
     "output_type": "stream",
     "text": [
      "97/97 [==============================] - 1s 10ms/step\n",
      "       y_test  y_pred\n",
      "idx                  \n",
      "4058        5       5\n",
      "15639       5       5\n",
      "9308        5       5\n",
      "16289       5       5\n",
      "10139       5       5\n",
      "...       ...     ...\n",
      "13219       4       5\n",
      "14895       5       5\n",
      "20404       5       5\n",
      "2863        3       5\n",
      "14965       5       5\n",
      "\n",
      "[6198 rows x 2 columns]\n"
     ]
    },
    {
     "data": {
      "image/png": "[encoded data removed]",
      "text/plain": [
       "<Figure size 432x288 with 1 Axes>"
      ]
     },
     "metadata": {
      "needs_background": "light"
     },
     "output_type": "display_data"
    }
   ],
   "source": [
    "y_pred = model.predict(X_test_bow, batch_size=BATCH_SIZE, verbose=1)\n",
    "y_pred = pd.Series(y_pred.argmax(axis=1))\n",
    "\n",
    "result = pd.DataFrame({'idx': y_test.index, 'y_test': y_test.values, 'y_pred': y_pred.values}).set_index('idx')\n",
    "print(result)\n",
    "\n",
    "plt.bar(result['y_pred'].value_counts().index, result['y_pred'].value_counts().values, color='black', label='pred')\n",
    "plt.bar(result['y_test'].value_counts().index, result['y_test'].value_counts().values, alpha=0.5, color='orange', label='true')\n",
    "plt.legend()\n",
    "plt.show()"
   ]
  },
  {
   "cell_type": "markdown",
   "metadata": {},
   "source": [
    "#### Вывод\n",
    "- Видно, что сложнее всего моделе предсказывать средние оценки (2, 3, 4), возможно из-за того, что люди склонны ставить крайние значения, поэтому о них больше данных\n",
    "- начиная с 3й похи наблюдается переобучение, по этой причине ранняя остановке прекратила обучение модели\n",
    "\n",
    "## 2. Берём предобученный word2vec и его эмбедингами инициализируем сетку, как влияет на качество?"
   ]
  },
  {
   "cell_type": "code",
   "execution_count": 23,
   "metadata": {},
   "outputs": [
    {
     "data": {
      "text/plain": [
       "dict_keys(['fasttext-wiki-news-subwords-300', 'conceptnet-numberbatch-17-06-300', 'word2vec-ruscorpora-300', 'word2vec-google-news-300', 'glove-wiki-gigaword-50', 'glove-wiki-gigaword-100', 'glove-wiki-gigaword-200', 'glove-wiki-gigaword-300', 'glove-twitter-25', 'glove-twitter-50', 'glove-twitter-100', 'glove-twitter-200', '__testing_word2vec-matrix-synopsis'])"
      ]
     },
     "execution_count": 23,
     "metadata": {},
     "output_type": "execute_result"
    }
   ],
   "source": [
    "import gensim.downloader as api\n",
    "api.info()['models'].keys()"
   ]
  },
  {
   "cell_type": "code",
   "execution_count": 24,
   "metadata": {},
   "outputs": [],
   "source": [
    "wv = api.load('glove-twitter-25')"
   ]
  },
  {
   "cell_type": "code",
   "execution_count": 25,
   "metadata": {},
   "outputs": [],
   "source": [
    "def text_to_wv(text, maxlen):\n",
    "    result = []\n",
    "    words = word_tokenize(text.lower())\n",
    "    words = [word for word in words if word.isalnum()]\n",
    "    for w in words:\n",
    "        if w in wv:\n",
    "            result.append(list(wv[w]))\n",
    "    padding = [[0]*25]*(maxlen-len(result))\n",
    "    result = padding + result[-maxlen:]\n",
    "    return result"
   ]
  },
  {
   "cell_type": "code",
   "execution_count": 26,
   "metadata": {},
   "outputs": [
    {
     "name": "stdout",
     "output_type": "stream",
     "text": [
      "(14461, 132, 25)\n",
      "(6198, 132, 25)\n"
     ]
    }
   ],
   "source": [
    "X_train_wv = np.array([text_to_wv(text, MAX_LEN) for text in X_train])\n",
    "X_test_wv = np.array([text_to_wv(text, MAX_LEN) for text in X_test])\n",
    "\n",
    "print(X_train_wv.shape)\n",
    "print(X_test_wv.shape)"
   ]
  },
  {
   "cell_type": "code",
   "execution_count": 27,
   "metadata": {},
   "outputs": [],
   "source": [
    "model = models.Sequential([\n",
    "    layers.Conv1D(filters=128, kernel_size=3),\n",
    "    layers.Activation('relu'),\n",
    "    \n",
    "    layers.GlobalMaxPool1D(),\n",
    "    layers.Dense(10),\n",
    "    layers.Activation('relu'),\n",
    "    \n",
    "    layers.Dense(NUM_CLASSES+1),\n",
    "    layers.Activation('softmax')\n",
    "])\n",
    "\n",
    "model.compile(\n",
    "    loss='categorical_crossentropy',\n",
    "    optimizer='adam',\n",
    "    metrics=['accuracy']\n",
    ")"
   ]
  },
  {
   "cell_type": "code",
   "execution_count": 28,
   "metadata": {},
   "outputs": [
    {
     "name": "stdout",
     "output_type": "stream",
     "text": [
      "Epoch 1/10\n",
      "204/204 [==============================] - 4s 18ms/step - loss: 1.2311 - accuracy: 0.6395 - val_loss: 0.8358 - val_accuracy: 0.7374\n",
      "Epoch 2/10\n",
      "204/204 [==============================] - 3s 16ms/step - loss: 0.7677 - accuracy: 0.7487 - val_loss: 0.7443 - val_accuracy: 0.7381\n",
      "Epoch 3/10\n",
      "204/204 [==============================] - 3s 16ms/step - loss: 0.7019 - accuracy: 0.7581 - val_loss: 0.7214 - val_accuracy: 0.7491\n",
      "Epoch 4/10\n",
      "204/204 [==============================] - 3s 16ms/step - loss: 0.6842 - accuracy: 0.7613 - val_loss: 0.7188 - val_accuracy: 0.7422\n",
      "Epoch 5/10\n",
      "204/204 [==============================] - 3s 17ms/step - loss: 0.6480 - accuracy: 0.7770 - val_loss: 0.7113 - val_accuracy: 0.7367\n",
      "Epoch 6/10\n",
      "204/204 [==============================] - 3s 16ms/step - loss: 0.6424 - accuracy: 0.7750 - val_loss: 0.7152 - val_accuracy: 0.7429\n",
      "97/97 [==============================] - 0s 4ms/step - loss: 0.7077 - accuracy: 0.7562\n",
      "Test score: 0.7077237963676453\n",
      "Test accuracy: 0.7562116980552673\n"
     ]
    }
   ],
   "source": [
    "tensorboard = callbacks.TensorBoard(log_dir='./logs', write_graph=True, write_images=True)\n",
    "early_stopping = callbacks.EarlyStopping(monitor='val_loss')\n",
    "\n",
    "history = model.fit(\n",
    "    X_train_wv, y_train_cat, \n",
    "    batch_size=BATCH_SIZE,\n",
    "    epochs=EPOCHS,\n",
    "    verbose=1,\n",
    "    validation_split=0.1,\n",
    "    callbacks=[tensorboard, early_stopping]\n",
    ")\n",
    "\n",
    "score = model.evaluate(X_test_wv, y_test_cat, batch_size=BATCH_SIZE, verbose=1)\n",
    "\n",
    "print('Test score:', score[0])\n",
    "print('Test accuracy:', score[1])"
   ]
  },
  {
   "cell_type": "code",
   "execution_count": 29,
   "metadata": {},
   "outputs": [
    {
     "data": {
      "text/plain": [
       "<matplotlib.axes._subplots.AxesSubplot at 0x2c026722ac8>"
      ]
     },
     "execution_count": 29,
     "metadata": {},
     "output_type": "execute_result"
    },
    {
     "data": {
      "image/png": "[encoded data removed]",
      "text/plain": [
       "<Figure size 432x288 with 1 Axes>"
      ]
     },
     "metadata": {
      "needs_background": "light"
     },
     "output_type": "display_data"
    }
   ],
   "source": [
    "pd.DataFrame(history.history).plot()"
   ]
  },
  {
   "cell_type": "code",
   "execution_count": 30,
   "metadata": {},
   "outputs": [
    {
     "name": "stdout",
     "output_type": "stream",
     "text": [
      "97/97 [==============================] - 1s 5ms/step\n",
      "       y_test  y_pred\n",
      "idx                  \n",
      "4058        5       5\n",
      "15639       5       5\n",
      "9308        5       5\n",
      "16289       5       5\n",
      "10139       5       5\n",
      "...       ...     ...\n",
      "13219       4       5\n",
      "14895       5       5\n",
      "20404       5       5\n",
      "2863        3       5\n",
      "14965       5       5\n",
      "\n",
      "[6198 rows x 2 columns]\n"
     ]
    },
    {
     "data": {
      "image/png": "[encoded data removed]",
      "text/plain": [
       "<Figure size 432x288 with 1 Axes>"
      ]
     },
     "metadata": {
      "needs_background": "light"
     },
     "output_type": "display_data"
    }
   ],
   "source": [
    "y_pred = model.predict(X_test_wv, batch_size=BATCH_SIZE, verbose=1)\n",
    "y_pred = pd.Series(y_pred.argmax(axis=1))\n",
    "\n",
    "result = pd.DataFrame({'idx': y_test.index, 'y_test': y_test.values, 'y_pred': y_pred.values}).set_index('idx')\n",
    "print(result)\n",
    "\n",
    "plt.bar(result['y_pred'].value_counts().index, result['y_pred'].value_counts().values, color='black', label='pred')\n",
    "plt.bar(result['y_test'].value_counts().index, result['y_test'].value_counts().values, alpha=0.5, color='orange', label='true')\n",
    "plt.legend()\n",
    "plt.show()"
   ]
  },
  {
   "cell_type": "markdown",
   "metadata": {},
   "source": [
    "#### Вывод:\n",
    "- word2vec позволил продолжить обучение дольше чем при кастомной векторизации предложений\n",
    "- при этом точность модели в итоге стала ниже\n",
    "\n",
    "## 3. Сравнить разные виды эмбедингов tf.Embeddings word2vec/Fasttext (в качестве агригации попробовать разные виды не только среднее для документа)"
   ]
  },
  {
   "cell_type": "code",
   "execution_count": 31,
   "metadata": {},
   "outputs": [],
   "source": [
    "df_score = pd.DataFrame(columns=['aggr']).set_index('aggr')"
   ]
  },
  {
   "cell_type": "code",
   "execution_count": 32,
   "metadata": {
    "scrolled": false
   },
   "outputs": [
    {
     "name": "stdout",
     "output_type": "stream",
     "text": [
      "Epoch 1/10\n",
      "204/204 [==============================] - 8s 39ms/step - loss: 1.0299 - accuracy: 0.7070 - val_loss: 0.6896 - val_accuracy: 0.7526\n",
      "Epoch 2/10\n",
      "204/204 [==============================] - 8s 40ms/step - loss: 0.6799 - accuracy: 0.7617 - val_loss: 0.6846 - val_accuracy: 0.7581\n",
      "Epoch 3/10\n",
      "204/204 [==============================] - 8s 40ms/step - loss: 0.6370 - accuracy: 0.7821 - val_loss: 0.6997 - val_accuracy: 0.7484\n",
      "97/97 [==============================] - 1s 10ms/step - loss: 0.6863 - accuracy: 0.7683\n"
     ]
    }
   ],
   "source": [
    "for key, val in {'q25': Q25_LEN, 'mean': MEAN_LEN, 'median': MEDIAN_LEN, 'q75': Q75_LEN, 'max': MAX_LEN}.items():\n",
    "    \n",
    "    display.clear_output(wait=False)\n",
    "    \n",
    "    model = models.Sequential([\n",
    "        layers.Embedding(input_dim=MAX_WORDS, output_dim=128, input_length=val),\n",
    "        layers.Conv1D(filters=128, kernel_size=3),\n",
    "        layers.Activation('relu'),\n",
    "\n",
    "        layers.GlobalMaxPool1D(),\n",
    "        layers.Dense(10),\n",
    "        layers.Activation('relu'),\n",
    "\n",
    "        layers.Dense(NUM_CLASSES+1),\n",
    "        layers.Activation('softmax')\n",
    "    ])\n",
    "\n",
    "    model.compile(\n",
    "        loss='categorical_crossentropy',\n",
    "        optimizer='adam',\n",
    "        metrics=['accuracy']\n",
    "    )\n",
    "    \n",
    "    tensorboard = callbacks.TensorBoard(log_dir='./logs', write_graph=True, write_images=True)\n",
    "    early_stopping = callbacks.EarlyStopping(monitor='val_loss')\n",
    "\n",
    "    history = model.fit(\n",
    "        X_train_bow, y_train_cat, \n",
    "        batch_size=BATCH_SIZE,\n",
    "        epochs=EPOCHS,\n",
    "        verbose=1,\n",
    "        validation_split=0.1,\n",
    "        callbacks=[tensorboard, early_stopping]\n",
    "    )\n",
    "\n",
    "    score = model.evaluate(X_test_bow, y_test_cat, batch_size=BATCH_SIZE, verbose=1)\n",
    "\n",
    "    df_score.loc['aggr', key] = score[1]"
   ]
  },
  {
   "cell_type": "code",
   "execution_count": 33,
   "metadata": {},
   "outputs": [
    {
     "data": {
      "text/html": [
       "<div>\n",
       "<style scoped>\n",
       "    .dataframe tbody tr th:only-of-type {\n",
       "        vertical-align: middle;\n",
       "    }\n",
       "\n",
       "    .dataframe tbody tr th {\n",
       "        vertical-align: top;\n",
       "    }\n",
       "\n",
       "    .dataframe thead th {\n",
       "        text-align: right;\n",
       "    }\n",
       "</style>\n",
       "<table border=\"1\" class=\"dataframe\">\n",
       "  <thead>\n",
       "    <tr style=\"text-align: right;\">\n",
       "      <th></th>\n",
       "      <th>q25</th>\n",
       "      <th>mean</th>\n",
       "      <th>median</th>\n",
       "      <th>q75</th>\n",
       "      <th>max</th>\n",
       "    </tr>\n",
       "    <tr>\n",
       "      <th>aggr</th>\n",
       "      <th></th>\n",
       "      <th></th>\n",
       "      <th></th>\n",
       "      <th></th>\n",
       "      <th></th>\n",
       "    </tr>\n",
       "  </thead>\n",
       "  <tbody>\n",
       "    <tr>\n",
       "      <th>aggr</th>\n",
       "      <td>0.771055</td>\n",
       "      <td>0.763956</td>\n",
       "      <td>0.772185</td>\n",
       "      <td>0.771862</td>\n",
       "      <td>0.768312</td>\n",
       "    </tr>\n",
       "  </tbody>\n",
       "</table>\n",
       "</div>"
      ],
      "text/plain": [
       "           q25      mean    median       q75       max\n",
       "aggr                                                  \n",
       "aggr  0.771055  0.763956  0.772185  0.771862  0.768312"
      ]
     },
     "execution_count": 33,
     "metadata": {},
     "output_type": "execute_result"
    }
   ],
   "source": [
    "df_score"
   ]
  },
  {
   "cell_type": "markdown",
   "metadata": {},
   "source": [
    "#### Вывод:\n",
    "- число слов в эмбендине практически не повлиятона на точность модели\n",
    "\n",
    "## 4. По моделировать различные архитектуры сетей (несколько слоёв свёрток с пулингом без с полносвязанными и без них) посмотреть какая архитектура быстрее переобучается, какая более хорошо решает текущую задачу\n",
    "\n",
    "### +1 Conv"
   ]
  },
  {
   "cell_type": "code",
   "execution_count": 34,
   "metadata": {},
   "outputs": [
    {
     "name": "stdout",
     "output_type": "stream",
     "text": [
      "Epoch 1/10\n",
      "204/204 [==============================] - 22s 107ms/step - loss: 1.0703 - accuracy: 0.7092 - val_loss: 0.7345 - val_accuracy: 0.7443\n",
      "Epoch 2/10\n",
      "204/204 [==============================] - 25s 122ms/step - loss: 0.6815 - accuracy: 0.7694 - val_loss: 0.7162 - val_accuracy: 0.7533\n",
      "Epoch 3/10\n",
      "204/204 [==============================] - 25s 123ms/step - loss: 0.6477 - accuracy: 0.7826 - val_loss: 0.6838 - val_accuracy: 0.7609\n",
      "Epoch 4/10\n",
      "204/204 [==============================] - 21s 104ms/step - loss: 0.6574 - accuracy: 0.7788 - val_loss: 0.6892 - val_accuracy: 0.7540\n",
      "97/97 [==============================] - 2s 24ms/step - loss: 0.6756 - accuracy: 0.7698 0s - loss: 0.686\n"
     ]
    },
    {
     "data": {
      "text/plain": [
       "<matplotlib.axes._subplots.AxesSubplot at 0x2c00700c088>"
      ]
     },
     "execution_count": 34,
     "metadata": {},
     "output_type": "execute_result"
    },
    {
     "data": {
      "image/png": "[encoded data removed]",
      "text/plain": [
       "<Figure size 432x288 with 1 Axes>"
      ]
     },
     "metadata": {
      "needs_background": "light"
     },
     "output_type": "display_data"
    }
   ],
   "source": [
    "model = models.Sequential([\n",
    "    layers.Embedding(input_dim=MAX_WORDS, output_dim=128, input_length=MAX_LEN),\n",
    "    \n",
    "    layers.Conv1D(filters=128, kernel_size=5),\n",
    "    layers.Activation('relu'),\n",
    "    \n",
    "    layers.Conv1D(filters=128, kernel_size=3),\n",
    "    layers.Activation('relu'),\n",
    "    \n",
    "    layers.GlobalMaxPool1D(),\n",
    "    \n",
    "    layers.Dense(10),\n",
    "    layers.Activation('relu'),\n",
    "\n",
    "    layers.Dense(NUM_CLASSES+1),\n",
    "    layers.Activation('softmax')\n",
    "])\n",
    "\n",
    "model.compile(\n",
    "    loss='categorical_crossentropy',\n",
    "    optimizer='adam',\n",
    "    metrics=['accuracy']\n",
    ")\n",
    "\n",
    "tensorboard = callbacks.TensorBoard(log_dir='./logs', write_graph=True, write_images=True)\n",
    "early_stopping = callbacks.EarlyStopping(monitor='val_loss')\n",
    "\n",
    "history = model.fit(\n",
    "    X_train_bow, y_train_cat, \n",
    "    batch_size=BATCH_SIZE,\n",
    "    epochs=EPOCHS,\n",
    "    verbose=1,\n",
    "    validation_split=0.1,\n",
    "    callbacks=[tensorboard, early_stopping]\n",
    ")\n",
    "\n",
    "score = model.evaluate(X_test_bow, y_test_cat, batch_size=BATCH_SIZE, verbose=1)\n",
    "\n",
    "pd.DataFrame(history.history).plot()"
   ]
  },
  {
   "cell_type": "markdown",
   "metadata": {},
   "source": [
    "#### Вывод:\n",
    "- скорость обучения упала\n",
    "\n",
    "### Dense out"
   ]
  },
  {
   "cell_type": "code",
   "execution_count": 35,
   "metadata": {},
   "outputs": [
    {
     "name": "stdout",
     "output_type": "stream",
     "text": [
      "Epoch 1/10\n",
      "204/204 [==============================] - 19s 89ms/step - loss: 0.9618 - accuracy: 0.7187 - val_loss: 0.7034 - val_accuracy: 0.7478\n",
      "Epoch 2/10\n",
      "204/204 [==============================] - 20s 98ms/step - loss: 0.6707 - accuracy: 0.7676 - val_loss: 0.6906 - val_accuracy: 0.7554\n",
      "Epoch 3/10\n",
      "204/204 [==============================] - 26s 128ms/step - loss: 0.6488 - accuracy: 0.7797 - val_loss: 0.6903 - val_accuracy: 0.7574\n",
      "Epoch 4/10\n",
      "204/204 [==============================] - 25s 122ms/step - loss: 0.6241 - accuracy: 0.7857 - val_loss: 0.6941 - val_accuracy: 0.7457\n",
      "97/97 [==============================] - 3s 31ms/step - loss: 0.6792 - accuracy: 0.7604\n"
     ]
    },
    {
     "data": {
      "text/plain": [
       "<matplotlib.axes._subplots.AxesSubplot at 0x2c026536c08>"
      ]
     },
     "execution_count": 35,
     "metadata": {},
     "output_type": "execute_result"
    },
    {
     "data": {
      "image/png": "[encoded data removed]",
      "text/plain": [
       "<Figure size 432x288 with 1 Axes>"
      ]
     },
     "metadata": {
      "needs_background": "light"
     },
     "output_type": "display_data"
    }
   ],
   "source": [
    "model = models.Sequential([\n",
    "    layers.Embedding(input_dim=MAX_WORDS, output_dim=128, input_length=MAX_LEN),\n",
    "    \n",
    "    layers.Conv1D(filters=128, kernel_size=5),\n",
    "    layers.Activation('relu'),\n",
    "    \n",
    "    layers.Conv1D(filters=128, kernel_size=3),\n",
    "    layers.Activation('relu'),\n",
    "    \n",
    "    layers.GlobalMaxPool1D(),\n",
    "    \n",
    "    layers.Activation('relu'),\n",
    "\n",
    "    layers.Dense(NUM_CLASSES+1),\n",
    "    layers.Activation('softmax')\n",
    "])\n",
    "\n",
    "model.compile(\n",
    "    loss='categorical_crossentropy',\n",
    "    optimizer='adam',\n",
    "    metrics=['accuracy']\n",
    ")\n",
    "\n",
    "tensorboard = callbacks.TensorBoard(log_dir='./logs', write_graph=True, write_images=True)\n",
    "early_stopping = callbacks.EarlyStopping(monitor='val_loss')\n",
    "\n",
    "history = model.fit(\n",
    "    X_train_bow, y_train_cat, \n",
    "    batch_size=BATCH_SIZE,\n",
    "    epochs=EPOCHS,\n",
    "    verbose=1,\n",
    "    validation_split=0.1,\n",
    "    callbacks=[tensorboard, early_stopping]\n",
    ")\n",
    "\n",
    "score = model.evaluate(X_test_bow, y_test_cat, batch_size=BATCH_SIZE, verbose=1)\n",
    "\n",
    "pd.DataFrame(history.history).plot()"
   ]
  },
  {
   "cell_type": "markdown",
   "metadata": {},
   "source": [
    "#### Вывод:\n",
    "- без полносвязного слоя переобучение наступило раньше"
   ]
  }
 ],
 "metadata": {
  "kernelspec": {
   "display_name": "Python 3",
   "language": "python",
   "name": "python3"
  },
  "language_info": {
   "codemirror_mode": {
    "name": "ipython",
    "version": 3
   },
   "file_extension": ".py",
   "mimetype": "text/x-python",
   "name": "python",
   "nbconvert_exporter": "python",
   "pygments_lexer": "ipython3",
   "version": "3.7.4"
  }
 },
 "nbformat": 4,
 "nbformat_minor": 2
}
